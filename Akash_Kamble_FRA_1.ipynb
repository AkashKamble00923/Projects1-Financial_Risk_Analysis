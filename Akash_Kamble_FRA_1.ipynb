{
 "cells": [
  {
   "cell_type": "markdown",
   "metadata": {},
   "source": [
    "# Predicting the Defaulters"
   ]
  },
  {
   "cell_type": "code",
   "execution_count": 180,
   "metadata": {},
   "outputs": [],
   "source": [
    "# Importing the libraries\n",
    "import numpy as np\n",
    "import matplotlib.pyplot as plt\n",
    "import pandas as pd\n",
    "import seaborn as sns # for making plots with seaborn\n",
    "color = sns.color_palette()\n",
    "import sklearn.metrics as metrics\n",
    "\n",
    "import warnings\n",
    "warnings.filterwarnings(\"ignore\")"
   ]
  },
  {
   "cell_type": "markdown",
   "metadata": {},
   "source": [
    "Let us now go ahead and read the dataset and check the first five rows of the dataset."
   ]
  },
  {
   "cell_type": "markdown",
   "metadata": {},
   "source": [
    "#### Importing the dataset"
   ]
  },
  {
   "cell_type": "code",
   "execution_count": 181,
   "metadata": {},
   "outputs": [
    {
     "data": {
      "text/html": [
       "<div>\n",
       "<style scoped>\n",
       "    .dataframe tbody tr th:only-of-type {\n",
       "        vertical-align: middle;\n",
       "    }\n",
       "\n",
       "    .dataframe tbody tr th {\n",
       "        vertical-align: top;\n",
       "    }\n",
       "\n",
       "    .dataframe thead th {\n",
       "        text-align: right;\n",
       "    }\n",
       "</style>\n",
       "<table border=\"1\" class=\"dataframe\">\n",
       "  <thead>\n",
       "    <tr style=\"text-align: right;\">\n",
       "      <th></th>\n",
       "      <th>Co_Code</th>\n",
       "      <th>Co_Name</th>\n",
       "      <th>Networth Next Year</th>\n",
       "      <th>Equity Paid Up</th>\n",
       "      <th>Networth</th>\n",
       "      <th>Capital Employed</th>\n",
       "      <th>Total Debt</th>\n",
       "      <th>Gross Block</th>\n",
       "      <th>Net Working Capital</th>\n",
       "      <th>Current Assets</th>\n",
       "      <th>...</th>\n",
       "      <th>PBIDTM (%)[Latest]</th>\n",
       "      <th>PBITM (%)[Latest]</th>\n",
       "      <th>PBDTM (%)[Latest]</th>\n",
       "      <th>CPM (%)[Latest]</th>\n",
       "      <th>APATM (%)[Latest]</th>\n",
       "      <th>Debtors Velocity (Days)</th>\n",
       "      <th>Creditors Velocity (Days)</th>\n",
       "      <th>Inventory Velocity (Days)</th>\n",
       "      <th>Value of Output/Total Assets</th>\n",
       "      <th>Value of Output/Gross Block</th>\n",
       "    </tr>\n",
       "  </thead>\n",
       "  <tbody>\n",
       "    <tr>\n",
       "      <th>0</th>\n",
       "      <td>16974</td>\n",
       "      <td>Hind.Cables</td>\n",
       "      <td>-8021.60</td>\n",
       "      <td>419.36</td>\n",
       "      <td>-7027.48</td>\n",
       "      <td>-1007.24</td>\n",
       "      <td>5936.03</td>\n",
       "      <td>474.30</td>\n",
       "      <td>-1076.34</td>\n",
       "      <td>40.50</td>\n",
       "      <td>...</td>\n",
       "      <td>0.00</td>\n",
       "      <td>0.00</td>\n",
       "      <td>0.00</td>\n",
       "      <td>0.00</td>\n",
       "      <td>0.00</td>\n",
       "      <td>0</td>\n",
       "      <td>0</td>\n",
       "      <td>45.0</td>\n",
       "      <td>0.00</td>\n",
       "      <td>0.00</td>\n",
       "    </tr>\n",
       "    <tr>\n",
       "      <th>1</th>\n",
       "      <td>21214</td>\n",
       "      <td>Tata Tele. Mah.</td>\n",
       "      <td>-3986.19</td>\n",
       "      <td>1954.93</td>\n",
       "      <td>-2968.08</td>\n",
       "      <td>4458.20</td>\n",
       "      <td>7410.18</td>\n",
       "      <td>9070.86</td>\n",
       "      <td>-1098.88</td>\n",
       "      <td>486.86</td>\n",
       "      <td>...</td>\n",
       "      <td>-10.30</td>\n",
       "      <td>-39.74</td>\n",
       "      <td>-57.74</td>\n",
       "      <td>-57.74</td>\n",
       "      <td>-87.18</td>\n",
       "      <td>29</td>\n",
       "      <td>101</td>\n",
       "      <td>2.0</td>\n",
       "      <td>0.31</td>\n",
       "      <td>0.24</td>\n",
       "    </tr>\n",
       "    <tr>\n",
       "      <th>2</th>\n",
       "      <td>14852</td>\n",
       "      <td>ABG Shipyard</td>\n",
       "      <td>-3192.58</td>\n",
       "      <td>53.84</td>\n",
       "      <td>506.86</td>\n",
       "      <td>7714.68</td>\n",
       "      <td>6944.54</td>\n",
       "      <td>1281.54</td>\n",
       "      <td>4496.25</td>\n",
       "      <td>9097.64</td>\n",
       "      <td>...</td>\n",
       "      <td>-5279.14</td>\n",
       "      <td>-5516.98</td>\n",
       "      <td>-7780.25</td>\n",
       "      <td>-7723.67</td>\n",
       "      <td>-7961.51</td>\n",
       "      <td>97</td>\n",
       "      <td>558</td>\n",
       "      <td>0.0</td>\n",
       "      <td>-0.03</td>\n",
       "      <td>-0.26</td>\n",
       "    </tr>\n",
       "    <tr>\n",
       "      <th>3</th>\n",
       "      <td>2439</td>\n",
       "      <td>GTL</td>\n",
       "      <td>-3054.51</td>\n",
       "      <td>157.30</td>\n",
       "      <td>-623.49</td>\n",
       "      <td>2353.88</td>\n",
       "      <td>2326.05</td>\n",
       "      <td>1033.69</td>\n",
       "      <td>-2612.42</td>\n",
       "      <td>1034.12</td>\n",
       "      <td>...</td>\n",
       "      <td>-3.33</td>\n",
       "      <td>-7.21</td>\n",
       "      <td>-48.13</td>\n",
       "      <td>-47.70</td>\n",
       "      <td>-51.58</td>\n",
       "      <td>93</td>\n",
       "      <td>63</td>\n",
       "      <td>2.0</td>\n",
       "      <td>0.24</td>\n",
       "      <td>1.90</td>\n",
       "    </tr>\n",
       "    <tr>\n",
       "      <th>4</th>\n",
       "      <td>23505</td>\n",
       "      <td>Bharati Defence</td>\n",
       "      <td>-2967.36</td>\n",
       "      <td>50.30</td>\n",
       "      <td>-1070.83</td>\n",
       "      <td>4675.33</td>\n",
       "      <td>5740.90</td>\n",
       "      <td>1084.20</td>\n",
       "      <td>1836.23</td>\n",
       "      <td>4685.81</td>\n",
       "      <td>...</td>\n",
       "      <td>-295.55</td>\n",
       "      <td>-400.55</td>\n",
       "      <td>-845.88</td>\n",
       "      <td>379.79</td>\n",
       "      <td>274.79</td>\n",
       "      <td>3887</td>\n",
       "      <td>346</td>\n",
       "      <td>0.0</td>\n",
       "      <td>0.01</td>\n",
       "      <td>0.05</td>\n",
       "    </tr>\n",
       "  </tbody>\n",
       "</table>\n",
       "<p>5 rows × 67 columns</p>\n",
       "</div>"
      ],
      "text/plain": [
       "   Co_Code          Co_Name  Networth Next Year  Equity Paid Up  Networth  \\\n",
       "0    16974      Hind.Cables            -8021.60          419.36  -7027.48   \n",
       "1    21214  Tata Tele. Mah.            -3986.19         1954.93  -2968.08   \n",
       "2    14852     ABG Shipyard            -3192.58           53.84    506.86   \n",
       "3     2439              GTL            -3054.51          157.30   -623.49   \n",
       "4    23505  Bharati Defence            -2967.36           50.30  -1070.83   \n",
       "\n",
       "   Capital Employed  Total Debt  Gross Block   Net Working Capital   \\\n",
       "0          -1007.24     5936.03        474.30              -1076.34   \n",
       "1           4458.20     7410.18       9070.86              -1098.88   \n",
       "2           7714.68     6944.54       1281.54               4496.25   \n",
       "3           2353.88     2326.05       1033.69              -2612.42   \n",
       "4           4675.33     5740.90       1084.20               1836.23   \n",
       "\n",
       "   Current Assets   ...  PBIDTM (%)[Latest]  PBITM (%)[Latest]  \\\n",
       "0            40.50  ...                0.00               0.00   \n",
       "1           486.86  ...              -10.30             -39.74   \n",
       "2          9097.64  ...            -5279.14           -5516.98   \n",
       "3          1034.12  ...               -3.33              -7.21   \n",
       "4          4685.81  ...             -295.55            -400.55   \n",
       "\n",
       "   PBDTM (%)[Latest]  CPM (%)[Latest]  APATM (%)[Latest]  \\\n",
       "0               0.00             0.00               0.00   \n",
       "1             -57.74           -57.74             -87.18   \n",
       "2           -7780.25         -7723.67           -7961.51   \n",
       "3             -48.13           -47.70             -51.58   \n",
       "4            -845.88           379.79             274.79   \n",
       "\n",
       "   Debtors Velocity (Days)  Creditors Velocity (Days)  \\\n",
       "0                        0                          0   \n",
       "1                       29                        101   \n",
       "2                       97                        558   \n",
       "3                       93                         63   \n",
       "4                     3887                        346   \n",
       "\n",
       "   Inventory Velocity (Days)  Value of Output/Total Assets  \\\n",
       "0                       45.0                          0.00   \n",
       "1                        2.0                          0.31   \n",
       "2                        0.0                         -0.03   \n",
       "3                        2.0                          0.24   \n",
       "4                        0.0                          0.01   \n",
       "\n",
       "   Value of Output/Gross Block  \n",
       "0                         0.00  \n",
       "1                         0.24  \n",
       "2                        -0.26  \n",
       "3                         1.90  \n",
       "4                         0.05  \n",
       "\n",
       "[5 rows x 67 columns]"
      ]
     },
     "execution_count": 181,
     "metadata": {},
     "output_type": "execute_result"
    }
   ],
   "source": [
    "Company = pd.read_excel('Company_Data2015-1.xlsx')\n",
    "\n",
    "#Glimpse of Data\n",
    "Company.head()"
   ]
  },
  {
   "cell_type": "markdown",
   "metadata": {},
   "source": [
    "#### Now, let us check the number of rows (observations) and the number of columns (variables)"
   ]
  },
  {
   "cell_type": "code",
   "execution_count": 182,
   "metadata": {},
   "outputs": [
    {
     "name": "stdout",
     "output_type": "stream",
     "text": [
      "The number of rows (observations) is 3586 \n",
      "The number of columns (variables) is 67\n"
     ]
    }
   ],
   "source": [
    "print('The number of rows (observations) is',Company.shape[0],'\\n''The number of columns (variables) is',Company.shape[1])"
   ]
  },
  {
   "cell_type": "markdown",
   "metadata": {},
   "source": [
    "#### Checking datatype of all columns"
   ]
  },
  {
   "cell_type": "code",
   "execution_count": 183,
   "metadata": {},
   "outputs": [
    {
     "name": "stdout",
     "output_type": "stream",
     "text": [
      "<class 'pandas.core.frame.DataFrame'>\n",
      "RangeIndex: 3586 entries, 0 to 3585\n",
      "Data columns (total 67 columns):\n",
      " #   Column                               Non-Null Count  Dtype  \n",
      "---  ------                               --------------  -----  \n",
      " 0   Co_Code                              3586 non-null   int64  \n",
      " 1   Co_Name                              3586 non-null   object \n",
      " 2   Networth Next Year                   3586 non-null   float64\n",
      " 3   Equity Paid Up                       3586 non-null   float64\n",
      " 4   Networth                             3586 non-null   float64\n",
      " 5   Capital Employed                     3586 non-null   float64\n",
      " 6   Total Debt                           3586 non-null   float64\n",
      " 7   Gross Block                          3586 non-null   float64\n",
      " 8   Net Working Capital                  3586 non-null   float64\n",
      " 9   Current Assets                       3586 non-null   float64\n",
      " 10  Current Liabilities and Provisions   3586 non-null   float64\n",
      " 11  Total Assets/Liabilities             3586 non-null   float64\n",
      " 12  Gross Sales                          3586 non-null   float64\n",
      " 13  Net Sales                            3586 non-null   float64\n",
      " 14  Other Income                         3586 non-null   float64\n",
      " 15  Value Of Output                      3586 non-null   float64\n",
      " 16  Cost of Production                   3586 non-null   float64\n",
      " 17  Selling Cost                         3586 non-null   float64\n",
      " 18  PBIDT                                3586 non-null   float64\n",
      " 19  PBDT                                 3586 non-null   float64\n",
      " 20  PBIT                                 3586 non-null   float64\n",
      " 21  PBT                                  3586 non-null   float64\n",
      " 22  PAT                                  3586 non-null   float64\n",
      " 23  Adjusted PAT                         3586 non-null   float64\n",
      " 24  CP                                   3586 non-null   float64\n",
      " 25  Revenue earnings in forex            3586 non-null   float64\n",
      " 26  Revenue expenses in forex            3586 non-null   float64\n",
      " 27  Capital expenses in forex            3586 non-null   float64\n",
      " 28  Book Value (Unit Curr)               3586 non-null   float64\n",
      " 29  Book Value (Adj.) (Unit Curr)        3582 non-null   float64\n",
      " 30  Market Capitalisation                3586 non-null   float64\n",
      " 31  CEPS (annualised) (Unit Curr)        3586 non-null   float64\n",
      " 32  Cash Flow From Operating Activities  3586 non-null   float64\n",
      " 33  Cash Flow From Investing Activities  3586 non-null   float64\n",
      " 34  Cash Flow From Financing Activities  3586 non-null   float64\n",
      " 35  ROG-Net Worth (%)                    3586 non-null   float64\n",
      " 36  ROG-Capital Employed (%)             3586 non-null   float64\n",
      " 37  ROG-Gross Block (%)                  3586 non-null   float64\n",
      " 38  ROG-Gross Sales (%)                  3586 non-null   float64\n",
      " 39  ROG-Net Sales (%)                    3586 non-null   float64\n",
      " 40  ROG-Cost of Production (%)           3586 non-null   float64\n",
      " 41  ROG-Total Assets (%)                 3586 non-null   float64\n",
      " 42  ROG-PBIDT (%)                        3586 non-null   float64\n",
      " 43  ROG-PBDT (%)                         3586 non-null   float64\n",
      " 44  ROG-PBIT (%)                         3586 non-null   float64\n",
      " 45  ROG-PBT (%)                          3586 non-null   float64\n",
      " 46  ROG-PAT (%)                          3586 non-null   float64\n",
      " 47  ROG-CP (%)                           3586 non-null   float64\n",
      " 48  ROG-Revenue earnings in forex (%)    3586 non-null   float64\n",
      " 49  ROG-Revenue expenses in forex (%)    3586 non-null   float64\n",
      " 50  ROG-Market Capitalisation (%)        3586 non-null   float64\n",
      " 51  Current Ratio[Latest]                3585 non-null   float64\n",
      " 52  Fixed Assets Ratio[Latest]           3585 non-null   float64\n",
      " 53  Inventory Ratio[Latest]              3585 non-null   float64\n",
      " 54  Debtors Ratio[Latest]                3585 non-null   float64\n",
      " 55  Total Asset Turnover Ratio[Latest]   3585 non-null   float64\n",
      " 56  Interest Cover Ratio[Latest]         3585 non-null   float64\n",
      " 57  PBIDTM (%)[Latest]                   3585 non-null   float64\n",
      " 58  PBITM (%)[Latest]                    3585 non-null   float64\n",
      " 59  PBDTM (%)[Latest]                    3585 non-null   float64\n",
      " 60  CPM (%)[Latest]                      3585 non-null   float64\n",
      " 61  APATM (%)[Latest]                    3585 non-null   float64\n",
      " 62  Debtors Velocity (Days)              3586 non-null   int64  \n",
      " 63  Creditors Velocity (Days)            3586 non-null   int64  \n",
      " 64  Inventory Velocity (Days)            3483 non-null   float64\n",
      " 65  Value of Output/Total Assets         3586 non-null   float64\n",
      " 66  Value of Output/Gross Block          3586 non-null   float64\n",
      "dtypes: float64(63), int64(3), object(1)\n",
      "memory usage: 1.8+ MB\n"
     ]
    }
   ],
   "source": [
    "Company.info()"
   ]
  },
  {
   "cell_type": "markdown",
   "metadata": {},
   "source": [
    "#### Now, let us check the basic measures of descriptive statistics for the continuous variables"
   ]
  },
  {
   "cell_type": "code",
   "execution_count": 184,
   "metadata": {
    "scrolled": true
   },
   "outputs": [
    {
     "data": {
      "text/html": [
       "<div>\n",
       "<style scoped>\n",
       "    .dataframe tbody tr th:only-of-type {\n",
       "        vertical-align: middle;\n",
       "    }\n",
       "\n",
       "    .dataframe tbody tr th {\n",
       "        vertical-align: top;\n",
       "    }\n",
       "\n",
       "    .dataframe thead th {\n",
       "        text-align: right;\n",
       "    }\n",
       "</style>\n",
       "<table border=\"1\" class=\"dataframe\">\n",
       "  <thead>\n",
       "    <tr style=\"text-align: right;\">\n",
       "      <th></th>\n",
       "      <th>Co_Code</th>\n",
       "      <th>Networth Next Year</th>\n",
       "      <th>Equity Paid Up</th>\n",
       "      <th>Networth</th>\n",
       "      <th>Capital Employed</th>\n",
       "      <th>Total Debt</th>\n",
       "      <th>Gross Block</th>\n",
       "      <th>Net Working Capital</th>\n",
       "      <th>Current Assets</th>\n",
       "      <th>Current Liabilities and Provisions</th>\n",
       "      <th>...</th>\n",
       "      <th>PBIDTM (%)[Latest]</th>\n",
       "      <th>PBITM (%)[Latest]</th>\n",
       "      <th>PBDTM (%)[Latest]</th>\n",
       "      <th>CPM (%)[Latest]</th>\n",
       "      <th>APATM (%)[Latest]</th>\n",
       "      <th>Debtors Velocity (Days)</th>\n",
       "      <th>Creditors Velocity (Days)</th>\n",
       "      <th>Inventory Velocity (Days)</th>\n",
       "      <th>Value of Output/Total Assets</th>\n",
       "      <th>Value of Output/Gross Block</th>\n",
       "    </tr>\n",
       "  </thead>\n",
       "  <tbody>\n",
       "    <tr>\n",
       "      <th>count</th>\n",
       "      <td>3586.000000</td>\n",
       "      <td>3586.000000</td>\n",
       "      <td>3586.000000</td>\n",
       "      <td>3586.000000</td>\n",
       "      <td>3586.000000</td>\n",
       "      <td>3586.000000</td>\n",
       "      <td>3586.000000</td>\n",
       "      <td>3586.000000</td>\n",
       "      <td>3586.000000</td>\n",
       "      <td>3586.000000</td>\n",
       "      <td>...</td>\n",
       "      <td>3585.000000</td>\n",
       "      <td>3585.000000</td>\n",
       "      <td>3585.000000</td>\n",
       "      <td>3585.000000</td>\n",
       "      <td>3585.000000</td>\n",
       "      <td>3586.000000</td>\n",
       "      <td>3.586000e+03</td>\n",
       "      <td>3483.000000</td>\n",
       "      <td>3586.000000</td>\n",
       "      <td>3586.000000</td>\n",
       "    </tr>\n",
       "    <tr>\n",
       "      <th>mean</th>\n",
       "      <td>16065.388734</td>\n",
       "      <td>725.045251</td>\n",
       "      <td>62.966584</td>\n",
       "      <td>649.746299</td>\n",
       "      <td>2799.611054</td>\n",
       "      <td>1994.823779</td>\n",
       "      <td>594.178829</td>\n",
       "      <td>410.809665</td>\n",
       "      <td>1960.349172</td>\n",
       "      <td>391.992078</td>\n",
       "      <td>...</td>\n",
       "      <td>-51.162890</td>\n",
       "      <td>-109.213414</td>\n",
       "      <td>-311.570357</td>\n",
       "      <td>-307.005632</td>\n",
       "      <td>-365.056187</td>\n",
       "      <td>603.894032</td>\n",
       "      <td>2.057855e+03</td>\n",
       "      <td>79.644559</td>\n",
       "      <td>0.819757</td>\n",
       "      <td>61.884548</td>\n",
       "    </tr>\n",
       "    <tr>\n",
       "      <th>std</th>\n",
       "      <td>19776.817379</td>\n",
       "      <td>4769.681004</td>\n",
       "      <td>778.761744</td>\n",
       "      <td>4091.988792</td>\n",
       "      <td>26975.135385</td>\n",
       "      <td>23652.842746</td>\n",
       "      <td>4871.547802</td>\n",
       "      <td>6301.218546</td>\n",
       "      <td>22577.570829</td>\n",
       "      <td>2675.001631</td>\n",
       "      <td>...</td>\n",
       "      <td>1795.131025</td>\n",
       "      <td>3057.635870</td>\n",
       "      <td>10921.592639</td>\n",
       "      <td>10676.149629</td>\n",
       "      <td>12500.051387</td>\n",
       "      <td>10636.759580</td>\n",
       "      <td>5.416948e+04</td>\n",
       "      <td>137.847792</td>\n",
       "      <td>1.201400</td>\n",
       "      <td>976.824352</td>\n",
       "    </tr>\n",
       "    <tr>\n",
       "      <th>min</th>\n",
       "      <td>4.000000</td>\n",
       "      <td>-8021.600000</td>\n",
       "      <td>0.000000</td>\n",
       "      <td>-7027.480000</td>\n",
       "      <td>-1824.750000</td>\n",
       "      <td>-0.720000</td>\n",
       "      <td>-41.190000</td>\n",
       "      <td>-13162.420000</td>\n",
       "      <td>-0.910000</td>\n",
       "      <td>-0.230000</td>\n",
       "      <td>...</td>\n",
       "      <td>-78870.450000</td>\n",
       "      <td>-141600.000000</td>\n",
       "      <td>-590500.000000</td>\n",
       "      <td>-572000.000000</td>\n",
       "      <td>-688600.000000</td>\n",
       "      <td>0.000000</td>\n",
       "      <td>0.000000e+00</td>\n",
       "      <td>-199.000000</td>\n",
       "      <td>-0.330000</td>\n",
       "      <td>-61.000000</td>\n",
       "    </tr>\n",
       "    <tr>\n",
       "      <th>25%</th>\n",
       "      <td>3029.250000</td>\n",
       "      <td>3.985000</td>\n",
       "      <td>3.750000</td>\n",
       "      <td>3.892500</td>\n",
       "      <td>7.602500</td>\n",
       "      <td>0.030000</td>\n",
       "      <td>0.570000</td>\n",
       "      <td>0.942500</td>\n",
       "      <td>4.000000</td>\n",
       "      <td>0.732500</td>\n",
       "      <td>...</td>\n",
       "      <td>0.000000</td>\n",
       "      <td>0.000000</td>\n",
       "      <td>0.000000</td>\n",
       "      <td>0.000000</td>\n",
       "      <td>0.000000</td>\n",
       "      <td>8.000000</td>\n",
       "      <td>8.000000e+00</td>\n",
       "      <td>0.000000</td>\n",
       "      <td>0.070000</td>\n",
       "      <td>0.270000</td>\n",
       "    </tr>\n",
       "    <tr>\n",
       "      <th>50%</th>\n",
       "      <td>6077.500000</td>\n",
       "      <td>19.015000</td>\n",
       "      <td>8.290000</td>\n",
       "      <td>18.580000</td>\n",
       "      <td>39.090000</td>\n",
       "      <td>7.490000</td>\n",
       "      <td>15.870000</td>\n",
       "      <td>10.145000</td>\n",
       "      <td>24.540000</td>\n",
       "      <td>9.225000</td>\n",
       "      <td>...</td>\n",
       "      <td>8.070000</td>\n",
       "      <td>5.230000</td>\n",
       "      <td>4.690000</td>\n",
       "      <td>3.890000</td>\n",
       "      <td>1.590000</td>\n",
       "      <td>49.000000</td>\n",
       "      <td>3.900000e+01</td>\n",
       "      <td>35.000000</td>\n",
       "      <td>0.480000</td>\n",
       "      <td>1.530000</td>\n",
       "    </tr>\n",
       "    <tr>\n",
       "      <th>75%</th>\n",
       "      <td>24269.500000</td>\n",
       "      <td>123.802500</td>\n",
       "      <td>19.517500</td>\n",
       "      <td>117.297500</td>\n",
       "      <td>226.605000</td>\n",
       "      <td>72.350000</td>\n",
       "      <td>131.895000</td>\n",
       "      <td>61.175000</td>\n",
       "      <td>135.277500</td>\n",
       "      <td>65.650000</td>\n",
       "      <td>...</td>\n",
       "      <td>18.990000</td>\n",
       "      <td>14.290000</td>\n",
       "      <td>14.110000</td>\n",
       "      <td>11.390000</td>\n",
       "      <td>7.410000</td>\n",
       "      <td>106.000000</td>\n",
       "      <td>8.900000e+01</td>\n",
       "      <td>96.000000</td>\n",
       "      <td>1.160000</td>\n",
       "      <td>4.910000</td>\n",
       "    </tr>\n",
       "    <tr>\n",
       "      <th>max</th>\n",
       "      <td>72493.000000</td>\n",
       "      <td>111729.100000</td>\n",
       "      <td>42263.460000</td>\n",
       "      <td>81657.350000</td>\n",
       "      <td>714001.250000</td>\n",
       "      <td>652823.810000</td>\n",
       "      <td>128477.590000</td>\n",
       "      <td>223257.560000</td>\n",
       "      <td>721166.000000</td>\n",
       "      <td>83232.980000</td>\n",
       "      <td>...</td>\n",
       "      <td>19233.330000</td>\n",
       "      <td>19195.700000</td>\n",
       "      <td>15640.000000</td>\n",
       "      <td>15640.000000</td>\n",
       "      <td>15266.670000</td>\n",
       "      <td>514721.000000</td>\n",
       "      <td>2.034145e+06</td>\n",
       "      <td>996.000000</td>\n",
       "      <td>17.630000</td>\n",
       "      <td>43404.000000</td>\n",
       "    </tr>\n",
       "  </tbody>\n",
       "</table>\n",
       "<p>8 rows × 66 columns</p>\n",
       "</div>"
      ],
      "text/plain": [
       "            Co_Code  Networth Next Year  Equity Paid Up      Networth  \\\n",
       "count   3586.000000         3586.000000     3586.000000   3586.000000   \n",
       "mean   16065.388734          725.045251       62.966584    649.746299   \n",
       "std    19776.817379         4769.681004      778.761744   4091.988792   \n",
       "min        4.000000        -8021.600000        0.000000  -7027.480000   \n",
       "25%     3029.250000            3.985000        3.750000      3.892500   \n",
       "50%     6077.500000           19.015000        8.290000     18.580000   \n",
       "75%    24269.500000          123.802500       19.517500    117.297500   \n",
       "max    72493.000000       111729.100000    42263.460000  81657.350000   \n",
       "\n",
       "       Capital Employed     Total Debt   Gross Block   Net Working Capital   \\\n",
       "count       3586.000000    3586.000000    3586.000000           3586.000000   \n",
       "mean        2799.611054    1994.823779     594.178829            410.809665   \n",
       "std        26975.135385   23652.842746    4871.547802           6301.218546   \n",
       "min        -1824.750000      -0.720000     -41.190000         -13162.420000   \n",
       "25%            7.602500       0.030000       0.570000              0.942500   \n",
       "50%           39.090000       7.490000      15.870000             10.145000   \n",
       "75%          226.605000      72.350000     131.895000             61.175000   \n",
       "max       714001.250000  652823.810000  128477.590000         223257.560000   \n",
       "\n",
       "       Current Assets   Current Liabilities and Provisions   ...  \\\n",
       "count      3586.000000                          3586.000000  ...   \n",
       "mean       1960.349172                           391.992078  ...   \n",
       "std       22577.570829                          2675.001631  ...   \n",
       "min          -0.910000                            -0.230000  ...   \n",
       "25%           4.000000                             0.732500  ...   \n",
       "50%          24.540000                             9.225000  ...   \n",
       "75%         135.277500                            65.650000  ...   \n",
       "max      721166.000000                         83232.980000  ...   \n",
       "\n",
       "       PBIDTM (%)[Latest]  PBITM (%)[Latest]  PBDTM (%)[Latest]  \\\n",
       "count         3585.000000        3585.000000        3585.000000   \n",
       "mean           -51.162890        -109.213414        -311.570357   \n",
       "std           1795.131025        3057.635870       10921.592639   \n",
       "min         -78870.450000     -141600.000000     -590500.000000   \n",
       "25%              0.000000           0.000000           0.000000   \n",
       "50%              8.070000           5.230000           4.690000   \n",
       "75%             18.990000          14.290000          14.110000   \n",
       "max          19233.330000       19195.700000       15640.000000   \n",
       "\n",
       "       CPM (%)[Latest]  APATM (%)[Latest]  Debtors Velocity (Days)  \\\n",
       "count      3585.000000        3585.000000              3586.000000   \n",
       "mean       -307.005632        -365.056187               603.894032   \n",
       "std       10676.149629       12500.051387             10636.759580   \n",
       "min     -572000.000000     -688600.000000                 0.000000   \n",
       "25%           0.000000           0.000000                 8.000000   \n",
       "50%           3.890000           1.590000                49.000000   \n",
       "75%          11.390000           7.410000               106.000000   \n",
       "max       15640.000000       15266.670000            514721.000000   \n",
       "\n",
       "       Creditors Velocity (Days)  Inventory Velocity (Days)  \\\n",
       "count               3.586000e+03                3483.000000   \n",
       "mean                2.057855e+03                  79.644559   \n",
       "std                 5.416948e+04                 137.847792   \n",
       "min                 0.000000e+00                -199.000000   \n",
       "25%                 8.000000e+00                   0.000000   \n",
       "50%                 3.900000e+01                  35.000000   \n",
       "75%                 8.900000e+01                  96.000000   \n",
       "max                 2.034145e+06                 996.000000   \n",
       "\n",
       "       Value of Output/Total Assets  Value of Output/Gross Block  \n",
       "count                   3586.000000                  3586.000000  \n",
       "mean                       0.819757                    61.884548  \n",
       "std                        1.201400                   976.824352  \n",
       "min                       -0.330000                   -61.000000  \n",
       "25%                        0.070000                     0.270000  \n",
       "50%                        0.480000                     1.530000  \n",
       "75%                        1.160000                     4.910000  \n",
       "max                       17.630000                 43404.000000  \n",
       "\n",
       "[8 rows x 66 columns]"
      ]
     },
     "execution_count": 184,
     "metadata": {},
     "output_type": "execute_result"
    }
   ],
   "source": [
    "Company.describe()"
   ]
  },
  {
   "cell_type": "markdown",
   "metadata": {},
   "source": [
    "#### Creating a binary target variable using 'Networth_Next_Year' "
   ]
  },
  {
   "cell_type": "code",
   "execution_count": 185,
   "metadata": {},
   "outputs": [],
   "source": [
    "Company['default'] = np.where((Company['Networth Next Year'] > 0), 0, 1)"
   ]
  },
  {
   "cell_type": "markdown",
   "metadata": {},
   "source": [
    "#### Checking top 10 rows"
   ]
  },
  {
   "cell_type": "code",
   "execution_count": 186,
   "metadata": {},
   "outputs": [
    {
     "data": {
      "text/html": [
       "<div>\n",
       "<style scoped>\n",
       "    .dataframe tbody tr th:only-of-type {\n",
       "        vertical-align: middle;\n",
       "    }\n",
       "\n",
       "    .dataframe tbody tr th {\n",
       "        vertical-align: top;\n",
       "    }\n",
       "\n",
       "    .dataframe thead th {\n",
       "        text-align: right;\n",
       "    }\n",
       "</style>\n",
       "<table border=\"1\" class=\"dataframe\">\n",
       "  <thead>\n",
       "    <tr style=\"text-align: right;\">\n",
       "      <th></th>\n",
       "      <th>Co_Code</th>\n",
       "      <th>Co_Name</th>\n",
       "      <th>Networth Next Year</th>\n",
       "      <th>Equity Paid Up</th>\n",
       "      <th>Networth</th>\n",
       "      <th>Capital Employed</th>\n",
       "      <th>Total Debt</th>\n",
       "      <th>Gross Block</th>\n",
       "      <th>Net Working Capital</th>\n",
       "      <th>Current Assets</th>\n",
       "      <th>...</th>\n",
       "      <th>PBITM (%)[Latest]</th>\n",
       "      <th>PBDTM (%)[Latest]</th>\n",
       "      <th>CPM (%)[Latest]</th>\n",
       "      <th>APATM (%)[Latest]</th>\n",
       "      <th>Debtors Velocity (Days)</th>\n",
       "      <th>Creditors Velocity (Days)</th>\n",
       "      <th>Inventory Velocity (Days)</th>\n",
       "      <th>Value of Output/Total Assets</th>\n",
       "      <th>Value of Output/Gross Block</th>\n",
       "      <th>default</th>\n",
       "    </tr>\n",
       "  </thead>\n",
       "  <tbody>\n",
       "    <tr>\n",
       "      <th>0</th>\n",
       "      <td>16974</td>\n",
       "      <td>Hind.Cables</td>\n",
       "      <td>-8021.60</td>\n",
       "      <td>419.36</td>\n",
       "      <td>-7027.48</td>\n",
       "      <td>-1007.24</td>\n",
       "      <td>5936.03</td>\n",
       "      <td>474.30</td>\n",
       "      <td>-1076.34</td>\n",
       "      <td>40.50</td>\n",
       "      <td>...</td>\n",
       "      <td>0.00</td>\n",
       "      <td>0.00</td>\n",
       "      <td>0.00</td>\n",
       "      <td>0.00</td>\n",
       "      <td>0</td>\n",
       "      <td>0</td>\n",
       "      <td>45.0</td>\n",
       "      <td>0.00</td>\n",
       "      <td>0.00</td>\n",
       "      <td>1</td>\n",
       "    </tr>\n",
       "    <tr>\n",
       "      <th>1</th>\n",
       "      <td>21214</td>\n",
       "      <td>Tata Tele. Mah.</td>\n",
       "      <td>-3986.19</td>\n",
       "      <td>1954.93</td>\n",
       "      <td>-2968.08</td>\n",
       "      <td>4458.20</td>\n",
       "      <td>7410.18</td>\n",
       "      <td>9070.86</td>\n",
       "      <td>-1098.88</td>\n",
       "      <td>486.86</td>\n",
       "      <td>...</td>\n",
       "      <td>-39.74</td>\n",
       "      <td>-57.74</td>\n",
       "      <td>-57.74</td>\n",
       "      <td>-87.18</td>\n",
       "      <td>29</td>\n",
       "      <td>101</td>\n",
       "      <td>2.0</td>\n",
       "      <td>0.31</td>\n",
       "      <td>0.24</td>\n",
       "      <td>1</td>\n",
       "    </tr>\n",
       "    <tr>\n",
       "      <th>2</th>\n",
       "      <td>14852</td>\n",
       "      <td>ABG Shipyard</td>\n",
       "      <td>-3192.58</td>\n",
       "      <td>53.84</td>\n",
       "      <td>506.86</td>\n",
       "      <td>7714.68</td>\n",
       "      <td>6944.54</td>\n",
       "      <td>1281.54</td>\n",
       "      <td>4496.25</td>\n",
       "      <td>9097.64</td>\n",
       "      <td>...</td>\n",
       "      <td>-5516.98</td>\n",
       "      <td>-7780.25</td>\n",
       "      <td>-7723.67</td>\n",
       "      <td>-7961.51</td>\n",
       "      <td>97</td>\n",
       "      <td>558</td>\n",
       "      <td>0.0</td>\n",
       "      <td>-0.03</td>\n",
       "      <td>-0.26</td>\n",
       "      <td>1</td>\n",
       "    </tr>\n",
       "    <tr>\n",
       "      <th>3</th>\n",
       "      <td>2439</td>\n",
       "      <td>GTL</td>\n",
       "      <td>-3054.51</td>\n",
       "      <td>157.30</td>\n",
       "      <td>-623.49</td>\n",
       "      <td>2353.88</td>\n",
       "      <td>2326.05</td>\n",
       "      <td>1033.69</td>\n",
       "      <td>-2612.42</td>\n",
       "      <td>1034.12</td>\n",
       "      <td>...</td>\n",
       "      <td>-7.21</td>\n",
       "      <td>-48.13</td>\n",
       "      <td>-47.70</td>\n",
       "      <td>-51.58</td>\n",
       "      <td>93</td>\n",
       "      <td>63</td>\n",
       "      <td>2.0</td>\n",
       "      <td>0.24</td>\n",
       "      <td>1.90</td>\n",
       "      <td>1</td>\n",
       "    </tr>\n",
       "    <tr>\n",
       "      <th>4</th>\n",
       "      <td>23505</td>\n",
       "      <td>Bharati Defence</td>\n",
       "      <td>-2967.36</td>\n",
       "      <td>50.30</td>\n",
       "      <td>-1070.83</td>\n",
       "      <td>4675.33</td>\n",
       "      <td>5740.90</td>\n",
       "      <td>1084.20</td>\n",
       "      <td>1836.23</td>\n",
       "      <td>4685.81</td>\n",
       "      <td>...</td>\n",
       "      <td>-400.55</td>\n",
       "      <td>-845.88</td>\n",
       "      <td>379.79</td>\n",
       "      <td>274.79</td>\n",
       "      <td>3887</td>\n",
       "      <td>346</td>\n",
       "      <td>0.0</td>\n",
       "      <td>0.01</td>\n",
       "      <td>0.05</td>\n",
       "      <td>1</td>\n",
       "    </tr>\n",
       "    <tr>\n",
       "      <th>5</th>\n",
       "      <td>2484</td>\n",
       "      <td>Usha Ispat</td>\n",
       "      <td>-2519.40</td>\n",
       "      <td>179.35</td>\n",
       "      <td>-2519.39</td>\n",
       "      <td>-1824.75</td>\n",
       "      <td>694.64</td>\n",
       "      <td>0.02</td>\n",
       "      <td>-1843.74</td>\n",
       "      <td>0.00</td>\n",
       "      <td>...</td>\n",
       "      <td>0.00</td>\n",
       "      <td>0.00</td>\n",
       "      <td>0.00</td>\n",
       "      <td>0.00</td>\n",
       "      <td>0</td>\n",
       "      <td>0</td>\n",
       "      <td>0.0</td>\n",
       "      <td>0.00</td>\n",
       "      <td>0.00</td>\n",
       "      <td>1</td>\n",
       "    </tr>\n",
       "    <tr>\n",
       "      <th>6</th>\n",
       "      <td>23633</td>\n",
       "      <td>Hanung Toys</td>\n",
       "      <td>-2125.05</td>\n",
       "      <td>30.82</td>\n",
       "      <td>-1031.57</td>\n",
       "      <td>1536.08</td>\n",
       "      <td>2567.65</td>\n",
       "      <td>949.98</td>\n",
       "      <td>804.82</td>\n",
       "      <td>834.86</td>\n",
       "      <td>...</td>\n",
       "      <td>-987.73</td>\n",
       "      <td>-396.67</td>\n",
       "      <td>-672.36</td>\n",
       "      <td>-1264.22</td>\n",
       "      <td>456</td>\n",
       "      <td>12</td>\n",
       "      <td>392.0</td>\n",
       "      <td>0.00</td>\n",
       "      <td>-0.01</td>\n",
       "      <td>1</td>\n",
       "    </tr>\n",
       "    <tr>\n",
       "      <th>7</th>\n",
       "      <td>3226</td>\n",
       "      <td>K S Oils</td>\n",
       "      <td>-2100.56</td>\n",
       "      <td>45.92</td>\n",
       "      <td>-1945.45</td>\n",
       "      <td>979.13</td>\n",
       "      <td>2664.04</td>\n",
       "      <td>920.67</td>\n",
       "      <td>263.95</td>\n",
       "      <td>705.76</td>\n",
       "      <td>...</td>\n",
       "      <td>-596.97</td>\n",
       "      <td>-456.40</td>\n",
       "      <td>-461.06</td>\n",
       "      <td>-610.80</td>\n",
       "      <td>828</td>\n",
       "      <td>622</td>\n",
       "      <td>799.0</td>\n",
       "      <td>-0.02</td>\n",
       "      <td>-0.03</td>\n",
       "      <td>1</td>\n",
       "    </tr>\n",
       "    <tr>\n",
       "      <th>8</th>\n",
       "      <td>1541</td>\n",
       "      <td>Quadrant Tele.</td>\n",
       "      <td>-1695.75</td>\n",
       "      <td>61.23</td>\n",
       "      <td>-1560.94</td>\n",
       "      <td>-613.79</td>\n",
       "      <td>597.82</td>\n",
       "      <td>1700.27</td>\n",
       "      <td>-1121.96</td>\n",
       "      <td>117.67</td>\n",
       "      <td>...</td>\n",
       "      <td>-20.43</td>\n",
       "      <td>-3.58</td>\n",
       "      <td>-3.58</td>\n",
       "      <td>-25.91</td>\n",
       "      <td>34</td>\n",
       "      <td>145</td>\n",
       "      <td>2.0</td>\n",
       "      <td>0.92</td>\n",
       "      <td>0.31</td>\n",
       "      <td>1</td>\n",
       "    </tr>\n",
       "    <tr>\n",
       "      <th>9</th>\n",
       "      <td>2334</td>\n",
       "      <td>ITI</td>\n",
       "      <td>-1677.18</td>\n",
       "      <td>288.00</td>\n",
       "      <td>-1947.85</td>\n",
       "      <td>86.35</td>\n",
       "      <td>1220.83</td>\n",
       "      <td>1329.82</td>\n",
       "      <td>-390.53</td>\n",
       "      <td>2536.78</td>\n",
       "      <td>...</td>\n",
       "      <td>18.18</td>\n",
       "      <td>9.76</td>\n",
       "      <td>9.76</td>\n",
       "      <td>8.71</td>\n",
       "      <td>1112</td>\n",
       "      <td>913</td>\n",
       "      <td>62.0</td>\n",
       "      <td>0.54</td>\n",
       "      <td>1.16</td>\n",
       "      <td>1</td>\n",
       "    </tr>\n",
       "  </tbody>\n",
       "</table>\n",
       "<p>10 rows × 68 columns</p>\n",
       "</div>"
      ],
      "text/plain": [
       "   Co_Code          Co_Name  Networth Next Year  Equity Paid Up  Networth  \\\n",
       "0    16974      Hind.Cables            -8021.60          419.36  -7027.48   \n",
       "1    21214  Tata Tele. Mah.            -3986.19         1954.93  -2968.08   \n",
       "2    14852     ABG Shipyard            -3192.58           53.84    506.86   \n",
       "3     2439              GTL            -3054.51          157.30   -623.49   \n",
       "4    23505  Bharati Defence            -2967.36           50.30  -1070.83   \n",
       "5     2484       Usha Ispat            -2519.40          179.35  -2519.39   \n",
       "6    23633      Hanung Toys            -2125.05           30.82  -1031.57   \n",
       "7     3226         K S Oils            -2100.56           45.92  -1945.45   \n",
       "8     1541   Quadrant Tele.            -1695.75           61.23  -1560.94   \n",
       "9     2334              ITI            -1677.18          288.00  -1947.85   \n",
       "\n",
       "   Capital Employed  Total Debt  Gross Block   Net Working Capital   \\\n",
       "0          -1007.24     5936.03        474.30              -1076.34   \n",
       "1           4458.20     7410.18       9070.86              -1098.88   \n",
       "2           7714.68     6944.54       1281.54               4496.25   \n",
       "3           2353.88     2326.05       1033.69              -2612.42   \n",
       "4           4675.33     5740.90       1084.20               1836.23   \n",
       "5          -1824.75      694.64          0.02              -1843.74   \n",
       "6           1536.08     2567.65        949.98                804.82   \n",
       "7            979.13     2664.04        920.67                263.95   \n",
       "8           -613.79      597.82       1700.27              -1121.96   \n",
       "9             86.35     1220.83       1329.82               -390.53   \n",
       "\n",
       "   Current Assets   ...  PBITM (%)[Latest]  PBDTM (%)[Latest]  \\\n",
       "0            40.50  ...               0.00               0.00   \n",
       "1           486.86  ...             -39.74             -57.74   \n",
       "2          9097.64  ...           -5516.98           -7780.25   \n",
       "3          1034.12  ...              -7.21             -48.13   \n",
       "4          4685.81  ...            -400.55            -845.88   \n",
       "5             0.00  ...               0.00               0.00   \n",
       "6           834.86  ...            -987.73            -396.67   \n",
       "7           705.76  ...            -596.97            -456.40   \n",
       "8           117.67  ...             -20.43              -3.58   \n",
       "9          2536.78  ...              18.18               9.76   \n",
       "\n",
       "   CPM (%)[Latest]  APATM (%)[Latest]  Debtors Velocity (Days)  \\\n",
       "0             0.00               0.00                        0   \n",
       "1           -57.74             -87.18                       29   \n",
       "2         -7723.67           -7961.51                       97   \n",
       "3           -47.70             -51.58                       93   \n",
       "4           379.79             274.79                     3887   \n",
       "5             0.00               0.00                        0   \n",
       "6          -672.36           -1264.22                      456   \n",
       "7          -461.06            -610.80                      828   \n",
       "8            -3.58             -25.91                       34   \n",
       "9             9.76               8.71                     1112   \n",
       "\n",
       "   Creditors Velocity (Days)  Inventory Velocity (Days)  \\\n",
       "0                          0                       45.0   \n",
       "1                        101                        2.0   \n",
       "2                        558                        0.0   \n",
       "3                         63                        2.0   \n",
       "4                        346                        0.0   \n",
       "5                          0                        0.0   \n",
       "6                         12                      392.0   \n",
       "7                        622                      799.0   \n",
       "8                        145                        2.0   \n",
       "9                        913                       62.0   \n",
       "\n",
       "   Value of Output/Total Assets  Value of Output/Gross Block  default  \n",
       "0                          0.00                         0.00        1  \n",
       "1                          0.31                         0.24        1  \n",
       "2                         -0.03                        -0.26        1  \n",
       "3                          0.24                         1.90        1  \n",
       "4                          0.01                         0.05        1  \n",
       "5                          0.00                         0.00        1  \n",
       "6                          0.00                        -0.01        1  \n",
       "7                         -0.02                        -0.03        1  \n",
       "8                          0.92                         0.31        1  \n",
       "9                          0.54                         1.16        1  \n",
       "\n",
       "[10 rows x 68 columns]"
      ]
     },
     "execution_count": 186,
     "metadata": {},
     "output_type": "execute_result"
    }
   ],
   "source": [
    "Company.head(10)"
   ]
  },
  {
   "cell_type": "markdown",
   "metadata": {},
   "source": [
    "#### What does variable 'default' look like"
   ]
  },
  {
   "cell_type": "code",
   "execution_count": 187,
   "metadata": {},
   "outputs": [
    {
     "data": {
      "text/plain": [
       "0    3198\n",
       "1     388\n",
       "Name: default, dtype: int64"
      ]
     },
     "execution_count": 187,
     "metadata": {},
     "output_type": "execute_result"
    }
   ],
   "source": [
    "Company['default'].value_counts()"
   ]
  },
  {
   "cell_type": "markdown",
   "metadata": {},
   "source": [
    "#### Checking proportion of default"
   ]
  },
  {
   "cell_type": "code",
   "execution_count": 188,
   "metadata": {},
   "outputs": [
    {
     "data": {
      "text/plain": [
       "0    0.891801\n",
       "1    0.108199\n",
       "Name: default, dtype: float64"
      ]
     },
     "execution_count": 188,
     "metadata": {},
     "output_type": "execute_result"
    }
   ],
   "source": [
    "Company['default'].value_counts(normalize = True)"
   ]
  },
  {
   "cell_type": "markdown",
   "metadata": {},
   "source": [
    "#### Lets check for missing values in the dataset"
   ]
  },
  {
   "cell_type": "code",
   "execution_count": 189,
   "metadata": {},
   "outputs": [
    {
     "data": {
      "text/plain": [
       "Co_Code                           0\n",
       "Co_Name                           0\n",
       "Networth Next Year                0\n",
       "Equity Paid Up                    0\n",
       "Networth                          0\n",
       "                               ... \n",
       "Creditors Velocity (Days)         0\n",
       "Inventory Velocity (Days)       103\n",
       "Value of Output/Total Assets      0\n",
       "Value of Output/Gross Block       0\n",
       "default                           0\n",
       "Length: 68, dtype: int64"
      ]
     },
     "execution_count": 189,
     "metadata": {},
     "output_type": "execute_result"
    }
   ],
   "source": [
    "Company.isnull().sum()"
   ]
  },
  {
   "cell_type": "code",
   "execution_count": 190,
   "metadata": {},
   "outputs": [
    {
     "data": {
      "text/plain": [
       "243848"
      ]
     },
     "execution_count": 190,
     "metadata": {},
     "output_type": "execute_result"
    }
   ],
   "source": [
    "Company.size"
   ]
  },
  {
   "cell_type": "code",
   "execution_count": 191,
   "metadata": {},
   "outputs": [
    {
     "data": {
      "text/plain": [
       "118"
      ]
     },
     "execution_count": 191,
     "metadata": {},
     "output_type": "execute_result"
    }
   ],
   "source": [
    "Company.isnull().sum().sum()"
   ]
  },
  {
   "cell_type": "markdown",
   "metadata": {},
   "source": [
    "There are missing values in the dataset"
   ]
  },
  {
   "cell_type": "code",
   "execution_count": 192,
   "metadata": {},
   "outputs": [
    {
     "data": {
      "text/plain": [
       "0    0.891801\n",
       "1    0.108199\n",
       "Name: default, dtype: float64"
      ]
     },
     "execution_count": 192,
     "metadata": {},
     "output_type": "execute_result"
    }
   ],
   "source": [
    "Company['default'].value_counts(normalize = True)\n",
    "# Proportion for defaulters & non-defaulters are more or less unchanged\n",
    "# Therefore will proceed with dropping the NA values."
   ]
  },
  {
   "cell_type": "code",
   "execution_count": 193,
   "metadata": {},
   "outputs": [],
   "source": [
    "# The proportion is more or less similar."
   ]
  },
  {
   "cell_type": "code",
   "execution_count": 194,
   "metadata": {},
   "outputs": [],
   "source": [
    "Company_X = Company.drop('default', axis = 1)\n",
    "Company_Y = Company['default']"
   ]
  },
  {
   "cell_type": "code",
   "execution_count": 195,
   "metadata": {},
   "outputs": [
    {
     "data": {
      "text/html": [
       "<div>\n",
       "<style scoped>\n",
       "    .dataframe tbody tr th:only-of-type {\n",
       "        vertical-align: middle;\n",
       "    }\n",
       "\n",
       "    .dataframe tbody tr th {\n",
       "        vertical-align: top;\n",
       "    }\n",
       "\n",
       "    .dataframe thead th {\n",
       "        text-align: right;\n",
       "    }\n",
       "</style>\n",
       "<table border=\"1\" class=\"dataframe\">\n",
       "  <thead>\n",
       "    <tr style=\"text-align: right;\">\n",
       "      <th></th>\n",
       "      <th>Co_Code</th>\n",
       "      <th>Co_Name</th>\n",
       "      <th>Networth Next Year</th>\n",
       "      <th>Equity Paid Up</th>\n",
       "      <th>Networth</th>\n",
       "      <th>Capital Employed</th>\n",
       "      <th>Total Debt</th>\n",
       "      <th>Gross Block</th>\n",
       "      <th>Net Working Capital</th>\n",
       "      <th>Current Assets</th>\n",
       "      <th>...</th>\n",
       "      <th>PBIDTM (%)[Latest]</th>\n",
       "      <th>PBITM (%)[Latest]</th>\n",
       "      <th>PBDTM (%)[Latest]</th>\n",
       "      <th>CPM (%)[Latest]</th>\n",
       "      <th>APATM (%)[Latest]</th>\n",
       "      <th>Debtors Velocity (Days)</th>\n",
       "      <th>Creditors Velocity (Days)</th>\n",
       "      <th>Inventory Velocity (Days)</th>\n",
       "      <th>Value of Output/Total Assets</th>\n",
       "      <th>Value of Output/Gross Block</th>\n",
       "    </tr>\n",
       "  </thead>\n",
       "  <tbody>\n",
       "    <tr>\n",
       "      <th>0</th>\n",
       "      <td>16974</td>\n",
       "      <td>Hind.Cables</td>\n",
       "      <td>-8021.60</td>\n",
       "      <td>419.36</td>\n",
       "      <td>-7027.48</td>\n",
       "      <td>-1007.24</td>\n",
       "      <td>5936.03</td>\n",
       "      <td>474.30</td>\n",
       "      <td>-1076.34</td>\n",
       "      <td>40.50</td>\n",
       "      <td>...</td>\n",
       "      <td>0.00</td>\n",
       "      <td>0.00</td>\n",
       "      <td>0.00</td>\n",
       "      <td>0.00</td>\n",
       "      <td>0.00</td>\n",
       "      <td>0</td>\n",
       "      <td>0</td>\n",
       "      <td>45.0</td>\n",
       "      <td>0.00</td>\n",
       "      <td>0.00</td>\n",
       "    </tr>\n",
       "    <tr>\n",
       "      <th>1</th>\n",
       "      <td>21214</td>\n",
       "      <td>Tata Tele. Mah.</td>\n",
       "      <td>-3986.19</td>\n",
       "      <td>1954.93</td>\n",
       "      <td>-2968.08</td>\n",
       "      <td>4458.20</td>\n",
       "      <td>7410.18</td>\n",
       "      <td>9070.86</td>\n",
       "      <td>-1098.88</td>\n",
       "      <td>486.86</td>\n",
       "      <td>...</td>\n",
       "      <td>-10.30</td>\n",
       "      <td>-39.74</td>\n",
       "      <td>-57.74</td>\n",
       "      <td>-57.74</td>\n",
       "      <td>-87.18</td>\n",
       "      <td>29</td>\n",
       "      <td>101</td>\n",
       "      <td>2.0</td>\n",
       "      <td>0.31</td>\n",
       "      <td>0.24</td>\n",
       "    </tr>\n",
       "    <tr>\n",
       "      <th>2</th>\n",
       "      <td>14852</td>\n",
       "      <td>ABG Shipyard</td>\n",
       "      <td>-3192.58</td>\n",
       "      <td>53.84</td>\n",
       "      <td>506.86</td>\n",
       "      <td>7714.68</td>\n",
       "      <td>6944.54</td>\n",
       "      <td>1281.54</td>\n",
       "      <td>4496.25</td>\n",
       "      <td>9097.64</td>\n",
       "      <td>...</td>\n",
       "      <td>-5279.14</td>\n",
       "      <td>-5516.98</td>\n",
       "      <td>-7780.25</td>\n",
       "      <td>-7723.67</td>\n",
       "      <td>-7961.51</td>\n",
       "      <td>97</td>\n",
       "      <td>558</td>\n",
       "      <td>0.0</td>\n",
       "      <td>-0.03</td>\n",
       "      <td>-0.26</td>\n",
       "    </tr>\n",
       "    <tr>\n",
       "      <th>3</th>\n",
       "      <td>2439</td>\n",
       "      <td>GTL</td>\n",
       "      <td>-3054.51</td>\n",
       "      <td>157.30</td>\n",
       "      <td>-623.49</td>\n",
       "      <td>2353.88</td>\n",
       "      <td>2326.05</td>\n",
       "      <td>1033.69</td>\n",
       "      <td>-2612.42</td>\n",
       "      <td>1034.12</td>\n",
       "      <td>...</td>\n",
       "      <td>-3.33</td>\n",
       "      <td>-7.21</td>\n",
       "      <td>-48.13</td>\n",
       "      <td>-47.70</td>\n",
       "      <td>-51.58</td>\n",
       "      <td>93</td>\n",
       "      <td>63</td>\n",
       "      <td>2.0</td>\n",
       "      <td>0.24</td>\n",
       "      <td>1.90</td>\n",
       "    </tr>\n",
       "    <tr>\n",
       "      <th>4</th>\n",
       "      <td>23505</td>\n",
       "      <td>Bharati Defence</td>\n",
       "      <td>-2967.36</td>\n",
       "      <td>50.30</td>\n",
       "      <td>-1070.83</td>\n",
       "      <td>4675.33</td>\n",
       "      <td>5740.90</td>\n",
       "      <td>1084.20</td>\n",
       "      <td>1836.23</td>\n",
       "      <td>4685.81</td>\n",
       "      <td>...</td>\n",
       "      <td>-295.55</td>\n",
       "      <td>-400.55</td>\n",
       "      <td>-845.88</td>\n",
       "      <td>379.79</td>\n",
       "      <td>274.79</td>\n",
       "      <td>3887</td>\n",
       "      <td>346</td>\n",
       "      <td>0.0</td>\n",
       "      <td>0.01</td>\n",
       "      <td>0.05</td>\n",
       "    </tr>\n",
       "  </tbody>\n",
       "</table>\n",
       "<p>5 rows × 67 columns</p>\n",
       "</div>"
      ],
      "text/plain": [
       "   Co_Code          Co_Name  Networth Next Year  Equity Paid Up  Networth  \\\n",
       "0    16974      Hind.Cables            -8021.60          419.36  -7027.48   \n",
       "1    21214  Tata Tele. Mah.            -3986.19         1954.93  -2968.08   \n",
       "2    14852     ABG Shipyard            -3192.58           53.84    506.86   \n",
       "3     2439              GTL            -3054.51          157.30   -623.49   \n",
       "4    23505  Bharati Defence            -2967.36           50.30  -1070.83   \n",
       "\n",
       "   Capital Employed  Total Debt  Gross Block   Net Working Capital   \\\n",
       "0          -1007.24     5936.03        474.30              -1076.34   \n",
       "1           4458.20     7410.18       9070.86              -1098.88   \n",
       "2           7714.68     6944.54       1281.54               4496.25   \n",
       "3           2353.88     2326.05       1033.69              -2612.42   \n",
       "4           4675.33     5740.90       1084.20               1836.23   \n",
       "\n",
       "   Current Assets   ...  PBIDTM (%)[Latest]  PBITM (%)[Latest]  \\\n",
       "0            40.50  ...                0.00               0.00   \n",
       "1           486.86  ...              -10.30             -39.74   \n",
       "2          9097.64  ...            -5279.14           -5516.98   \n",
       "3          1034.12  ...               -3.33              -7.21   \n",
       "4          4685.81  ...             -295.55            -400.55   \n",
       "\n",
       "   PBDTM (%)[Latest]  CPM (%)[Latest]  APATM (%)[Latest]  \\\n",
       "0               0.00             0.00               0.00   \n",
       "1             -57.74           -57.74             -87.18   \n",
       "2           -7780.25         -7723.67           -7961.51   \n",
       "3             -48.13           -47.70             -51.58   \n",
       "4            -845.88           379.79             274.79   \n",
       "\n",
       "   Debtors Velocity (Days)  Creditors Velocity (Days)  \\\n",
       "0                        0                          0   \n",
       "1                       29                        101   \n",
       "2                       97                        558   \n",
       "3                       93                         63   \n",
       "4                     3887                        346   \n",
       "\n",
       "   Inventory Velocity (Days)  Value of Output/Total Assets  \\\n",
       "0                       45.0                          0.00   \n",
       "1                        2.0                          0.31   \n",
       "2                        0.0                         -0.03   \n",
       "3                        2.0                          0.24   \n",
       "4                        0.0                          0.01   \n",
       "\n",
       "   Value of Output/Gross Block  \n",
       "0                         0.00  \n",
       "1                         0.24  \n",
       "2                        -0.26  \n",
       "3                         1.90  \n",
       "4                         0.05  \n",
       "\n",
       "[5 rows x 67 columns]"
      ]
     },
     "execution_count": 195,
     "metadata": {},
     "output_type": "execute_result"
    }
   ],
   "source": [
    "Company_X.head()"
   ]
  },
  {
   "cell_type": "markdown",
   "metadata": {},
   "source": [
    "#### Let's check the number of outliers per column"
   ]
  },
  {
   "cell_type": "code",
   "execution_count": 196,
   "metadata": {},
   "outputs": [],
   "source": [
    "Q1 = Company_X.quantile(0.25)\n",
    "Q3 = Company_X.quantile(0.75)\n",
    "IQR = Q3 - Q1\n",
    "UL = Q3 + 1.5*IQR\n",
    "LL = Q1 - 1.5*IQR"
   ]
  },
  {
   "cell_type": "code",
   "execution_count": 197,
   "metadata": {},
   "outputs": [
    {
     "data": {
      "text/plain": [
       "APATM (%)[Latest]                933\n",
       "Adjusted PAT                     954\n",
       "Book Value (Adj.) (Unit Curr)    486\n",
       "Book Value (Unit Curr)           485\n",
       "CEPS (annualised) (Unit Curr)    602\n",
       "                                ... \n",
       "Total Assets/Liabilities         574\n",
       "Total Debt                       583\n",
       "Value Of Output                  559\n",
       "Value of Output/Gross Block      481\n",
       "Value of Output/Total Assets     150\n",
       "Length: 67, dtype: int64"
      ]
     },
     "execution_count": 197,
     "metadata": {},
     "output_type": "execute_result"
    }
   ],
   "source": [
    "((Company_X > UL) | (Company_X < LL)).sum()"
   ]
  },
  {
   "cell_type": "code",
   "execution_count": 198,
   "metadata": {},
   "outputs": [
    {
     "data": {
      "text/plain": [
       "42322"
      ]
     },
     "execution_count": 198,
     "metadata": {},
     "output_type": "execute_result"
    }
   ],
   "source": [
    "((Company_X > UL) | (Company_X < LL)).sum().sum()"
   ]
  },
  {
   "cell_type": "code",
   "execution_count": 199,
   "metadata": {},
   "outputs": [],
   "source": [
    "Company_X[((Company_X > UL) | (Company_X < LL))]= np.nan"
   ]
  },
  {
   "cell_type": "code",
   "execution_count": 200,
   "metadata": {},
   "outputs": [
    {
     "data": {
      "text/plain": [
       "Co_Code                         291\n",
       "Co_Name                           0\n",
       "Networth Next Year              676\n",
       "Equity Paid Up                  448\n",
       "Networth                        650\n",
       "                               ... \n",
       "Debtors Velocity (Days)         398\n",
       "Creditors Velocity (Days)       391\n",
       "Inventory Velocity (Days)       365\n",
       "Value of Output/Total Assets    150\n",
       "Value of Output/Gross Block     481\n",
       "Length: 67, dtype: int64"
      ]
     },
     "execution_count": 200,
     "metadata": {},
     "output_type": "execute_result"
    }
   ],
   "source": [
    "Company_X.isnull().sum()"
   ]
  },
  {
   "cell_type": "code",
   "execution_count": 201,
   "metadata": {},
   "outputs": [
    {
     "data": {
      "text/plain": [
       "42440"
      ]
     },
     "execution_count": 201,
     "metadata": {},
     "output_type": "execute_result"
    }
   ],
   "source": [
    "Company_X.isnull().sum().sum()"
   ]
  },
  {
   "cell_type": "code",
   "execution_count": 202,
   "metadata": {},
   "outputs": [],
   "source": [
    "Company_X = Company_X.drop(['Co_Code', 'Co_Name','Networth Next Year'], axis = 1)"
   ]
  },
  {
   "cell_type": "code",
   "execution_count": 203,
   "metadata": {},
   "outputs": [
    {
     "data": {
      "text/plain": [
       "(3586, 68)"
      ]
     },
     "execution_count": 203,
     "metadata": {},
     "output_type": "execute_result"
    }
   ],
   "source": [
    "Company.shape"
   ]
  },
  {
   "cell_type": "code",
   "execution_count": 204,
   "metadata": {},
   "outputs": [],
   "source": [
    "Company_sub1 = pd.concat([Company_X, Company_Y], axis =1 )"
   ]
  },
  {
   "cell_type": "markdown",
   "metadata": {},
   "source": [
    "#### Let's visually inspect the missing values in our data"
   ]
  },
  {
   "cell_type": "code",
   "execution_count": 205,
   "metadata": {},
   "outputs": [
    {
     "data": {
      "image/png": "[encoded data removed]",
      "text/plain": [
       "<Figure size 864x576 with 1 Axes>"
      ]
     },
     "metadata": {
      "needs_background": "light"
     },
     "output_type": "display_data"
    }
   ],
   "source": [
    "plt.figure(figsize = (12,8))\n",
    "sns.heatmap(Company_sub1.isnull(), cbar = False, cmap = 'coolwarm', yticklabels = False)\n",
    "plt.show()"
   ]
  },
  {
   "cell_type": "markdown",
   "metadata": {},
   "source": [
    "#### We should inspect total missing values by each row."
   ]
  },
  {
   "cell_type": "code",
   "execution_count": 206,
   "metadata": {},
   "outputs": [
    {
     "data": {
      "text/plain": [
       "0       19\n",
       "1       34\n",
       "2       43\n",
       "3       36\n",
       "4       35\n",
       "        ..\n",
       "3581    30\n",
       "3582    36\n",
       "3583    34\n",
       "3584    30\n",
       "3585    36\n",
       "Length: 3586, dtype: int64"
      ]
     },
     "execution_count": 206,
     "metadata": {},
     "output_type": "execute_result"
    }
   ],
   "source": [
    "Company_sub1.isnull().sum(axis = 1)"
   ]
  },
  {
   "cell_type": "markdown",
   "metadata": {},
   "source": [
    "#### Let's filter the data which is 90% or more complete at the row level"
   ]
  },
  {
   "cell_type": "code",
   "execution_count": 207,
   "metadata": {},
   "outputs": [],
   "source": [
    "Company_sub1_temp = Company_sub1[Company_sub1.isnull().sum(axis = 1) <= 6]"
   ]
  },
  {
   "cell_type": "code",
   "execution_count": 208,
   "metadata": {
    "scrolled": true
   },
   "outputs": [
    {
     "data": {
      "text/plain": [
       "(1460, 65)"
      ]
     },
     "execution_count": 208,
     "metadata": {},
     "output_type": "execute_result"
    }
   ],
   "source": [
    "Company_sub1_temp.shape"
   ]
  },
  {
   "cell_type": "code",
   "execution_count": 209,
   "metadata": {},
   "outputs": [
    {
     "data": {
      "text/plain": [
       "0    1319\n",
       "1     141\n",
       "Name: default, dtype: int64"
      ]
     },
     "execution_count": 209,
     "metadata": {},
     "output_type": "execute_result"
    }
   ],
   "source": [
    "Company_sub1_temp['default'].value_counts()"
   ]
  },
  {
   "cell_type": "code",
   "execution_count": 210,
   "metadata": {},
   "outputs": [
    {
     "data": {
      "text/plain": [
       "0    0.903425\n",
       "1    0.096575\n",
       "Name: default, dtype: float64"
      ]
     },
     "execution_count": 210,
     "metadata": {},
     "output_type": "execute_result"
    }
   ],
   "source": [
    "Company_sub1_temp['default'].value_counts(normalize=True)"
   ]
  },
  {
   "cell_type": "code",
   "execution_count": 211,
   "metadata": {
    "scrolled": true
   },
   "outputs": [
    {
     "data": {
      "text/plain": [
       "ROG-Revenue expenses in forex (%)      0.450363\n",
       "ROG-Revenue earnings in forex (%)      0.367262\n",
       "Cash Flow From Financing Activities    0.280257\n",
       "PAT                                    0.267429\n",
       "Adjusted PAT                           0.266035\n",
       "                                         ...   \n",
       "Debtors Ratio[Latest]                  0.103737\n",
       "Inventory Velocity (Days)              0.101785\n",
       "Total Asset Turnover Ratio[Latest]     0.056330\n",
       "Value of Output/Total Assets           0.041829\n",
       "default                                0.000000\n",
       "Length: 65, dtype: float64"
      ]
     },
     "execution_count": 211,
     "metadata": {},
     "output_type": "execute_result"
    }
   ],
   "source": [
    "Company_sub1.isnull().sum().sort_values(ascending = False)/Company_sub1.index.size"
   ]
  },
  {
   "cell_type": "markdown",
   "metadata": {},
   "source": [
    "#### Dropping columns with more than 30% missing values "
   ]
  },
  {
   "cell_type": "code",
   "execution_count": 212,
   "metadata": {},
   "outputs": [],
   "source": [
    "Company_sub2 = Company_sub1.drop(['ROG-Revenue expenses in forex (%)', 'ROG-Revenue earnings in forex (%)'], axis = 1)"
   ]
  },
  {
   "cell_type": "code",
   "execution_count": 213,
   "metadata": {},
   "outputs": [
    {
     "data": {
      "image/png": "[encoded data removed]",
      "text/plain": [
       "<Figure size 864x576 with 1 Axes>"
      ]
     },
     "metadata": {
      "needs_background": "light"
     },
     "output_type": "display_data"
    }
   ],
   "source": [
    "plt.figure(figsize = (12,8))\n",
    "sns.heatmap(Company_sub2.isnull(), cbar = False, cmap = 'coolwarm', yticklabels = False)\n",
    "plt.show()"
   ]
  },
  {
   "cell_type": "markdown",
   "metadata": {},
   "source": [
    "#### Segregate the predictors and response"
   ]
  },
  {
   "cell_type": "code",
   "execution_count": 214,
   "metadata": {},
   "outputs": [],
   "source": [
    "predictors = Company_sub2.drop('default', axis = 1)\n",
    "response = Company_sub2['default']"
   ]
  },
  {
   "cell_type": "markdown",
   "metadata": {},
   "source": [
    "##### Scale the predictors"
   ]
  },
  {
   "cell_type": "code",
   "execution_count": 215,
   "metadata": {},
   "outputs": [],
   "source": [
    "from sklearn.preprocessing import StandardScaler\n",
    "scaler = StandardScaler()\n",
    "scaled_predictors = pd.DataFrame(scaler.fit_transform(predictors), columns = predictors.columns)"
   ]
  },
  {
   "cell_type": "code",
   "execution_count": 216,
   "metadata": {},
   "outputs": [],
   "source": [
    "Company_sub3 = pd.concat([scaled_predictors, response], axis = 1)"
   ]
  },
  {
   "cell_type": "markdown",
   "metadata": {},
   "source": [
    "#### Imputing the remaining missing values"
   ]
  },
  {
   "cell_type": "code",
   "execution_count": 446,
   "metadata": {},
   "outputs": [],
   "source": [
    "from sklearn.impute import KNNImputer #MICE FancyImpute"
   ]
  },
  {
   "cell_type": "code",
   "execution_count": 447,
   "metadata": {},
   "outputs": [],
   "source": [
    "imputer = KNNImputer(n_neighbors=20)"
   ]
  },
  {
   "cell_type": "code",
   "execution_count": 448,
   "metadata": {},
   "outputs": [],
   "source": [
    "Company_imputed = pd.DataFrame(imputer.fit_transform(Company_sub3), columns = Company_sub3.columns)"
   ]
  },
  {
   "cell_type": "code",
   "execution_count": 449,
   "metadata": {
    "scrolled": true
   },
   "outputs": [
    {
     "data": {
      "text/plain": [
       "Equity Paid Up                  0\n",
       "Networth                        0\n",
       "Capital Employed                0\n",
       "Total Debt                      0\n",
       "Gross Block                     0\n",
       "                               ..\n",
       "Creditors Velocity (Days)       0\n",
       "Inventory Velocity (Days)       0\n",
       "Value of Output/Total Assets    0\n",
       "Value of Output/Gross Block     0\n",
       "default                         0\n",
       "Length: 63, dtype: int64"
      ]
     },
     "execution_count": 449,
     "metadata": {},
     "output_type": "execute_result"
    }
   ],
   "source": [
    "Company_imputed.isnull().sum()"
   ]
  },
  {
   "cell_type": "code",
   "execution_count": 450,
   "metadata": {},
   "outputs": [
    {
     "data": {
      "text/plain": [
       "0"
      ]
     },
     "execution_count": 450,
     "metadata": {},
     "output_type": "execute_result"
    }
   ],
   "source": [
    "Company_imputed.isnull().sum().sum()"
   ]
  },
  {
   "cell_type": "markdown",
   "metadata": {},
   "source": [
    "#### Checking the Variance Inflation Factor"
   ]
  },
  {
   "cell_type": "code",
   "execution_count": 451,
   "metadata": {},
   "outputs": [],
   "source": [
    "from statsmodels.stats.outliers_influence import variance_inflation_factor\n",
    "\n",
    "def calc_vif(X):\n",
    "\n",
    "    # Calculating VIF\n",
    "    vif = pd.DataFrame()\n",
    "    vif[\"variables\"] = X.columns\n",
    "    vif[\"VIF\"] = [variance_inflation_factor(X.values, i) for i in range(X.shape[1])]\n",
    "\n",
    "    return(vif)"
   ]
  },
  {
   "cell_type": "code",
   "execution_count": 452,
   "metadata": {},
   "outputs": [
    {
     "data": {
      "text/html": [
       "<div>\n",
       "<style scoped>\n",
       "    .dataframe tbody tr th:only-of-type {\n",
       "        vertical-align: middle;\n",
       "    }\n",
       "\n",
       "    .dataframe tbody tr th {\n",
       "        vertical-align: top;\n",
       "    }\n",
       "\n",
       "    .dataframe thead th {\n",
       "        text-align: right;\n",
       "    }\n",
       "</style>\n",
       "<table border=\"1\" class=\"dataframe\">\n",
       "  <thead>\n",
       "    <tr style=\"text-align: right;\">\n",
       "      <th></th>\n",
       "      <th>variables</th>\n",
       "      <th>VIF</th>\n",
       "    </tr>\n",
       "  </thead>\n",
       "  <tbody>\n",
       "    <tr>\n",
       "      <th>10</th>\n",
       "      <td>Net Sales</td>\n",
       "      <td>234.151750</td>\n",
       "    </tr>\n",
       "    <tr>\n",
       "      <th>12</th>\n",
       "      <td>Value Of Output</td>\n",
       "      <td>151.487873</td>\n",
       "    </tr>\n",
       "    <tr>\n",
       "      <th>9</th>\n",
       "      <td>Gross Sales</td>\n",
       "      <td>92.511342</td>\n",
       "    </tr>\n",
       "    <tr>\n",
       "      <th>35</th>\n",
       "      <td>ROG-Gross Sales (%)</td>\n",
       "      <td>76.836722</td>\n",
       "    </tr>\n",
       "    <tr>\n",
       "      <th>36</th>\n",
       "      <td>ROG-Net Sales (%)</td>\n",
       "      <td>76.704832</td>\n",
       "    </tr>\n",
       "    <tr>\n",
       "      <th>...</th>\n",
       "      <td>...</td>\n",
       "      <td>...</td>\n",
       "    </tr>\n",
       "    <tr>\n",
       "      <th>22</th>\n",
       "      <td>Revenue earnings in forex</td>\n",
       "      <td>1.368905</td>\n",
       "    </tr>\n",
       "    <tr>\n",
       "      <th>46</th>\n",
       "      <td>Current Ratio[Latest]</td>\n",
       "      <td>1.299395</td>\n",
       "    </tr>\n",
       "    <tr>\n",
       "      <th>59</th>\n",
       "      <td>Inventory Velocity (Days)</td>\n",
       "      <td>1.291223</td>\n",
       "    </tr>\n",
       "    <tr>\n",
       "      <th>45</th>\n",
       "      <td>ROG-Market Capitalisation (%)</td>\n",
       "      <td>1.280890</td>\n",
       "    </tr>\n",
       "    <tr>\n",
       "      <th>24</th>\n",
       "      <td>Capital expenses in forex</td>\n",
       "      <td>NaN</td>\n",
       "    </tr>\n",
       "  </tbody>\n",
       "</table>\n",
       "<p>63 rows × 2 columns</p>\n",
       "</div>"
      ],
      "text/plain": [
       "                        variables         VIF\n",
       "10                      Net Sales  234.151750\n",
       "12                Value Of Output  151.487873\n",
       "9                     Gross Sales   92.511342\n",
       "35            ROG-Gross Sales (%)   76.836722\n",
       "36              ROG-Net Sales (%)   76.704832\n",
       "..                            ...         ...\n",
       "22      Revenue earnings in forex    1.368905\n",
       "46          Current Ratio[Latest]    1.299395\n",
       "59      Inventory Velocity (Days)    1.291223\n",
       "45  ROG-Market Capitalisation (%)    1.280890\n",
       "24      Capital expenses in forex         NaN\n",
       "\n",
       "[63 rows x 2 columns]"
      ]
     },
     "execution_count": 452,
     "metadata": {},
     "output_type": "execute_result"
    }
   ],
   "source": [
    "calc_vif(Company_imputed).sort_values(by = 'VIF', ascending = False)"
   ]
  },
  {
   "cell_type": "code",
   "execution_count": 453,
   "metadata": {},
   "outputs": [
    {
     "data": {
      "text/html": [
       "<div>\n",
       "<style scoped>\n",
       "    .dataframe tbody tr th:only-of-type {\n",
       "        vertical-align: middle;\n",
       "    }\n",
       "\n",
       "    .dataframe tbody tr th {\n",
       "        vertical-align: top;\n",
       "    }\n",
       "\n",
       "    .dataframe thead th {\n",
       "        text-align: right;\n",
       "    }\n",
       "</style>\n",
       "<table border=\"1\" class=\"dataframe\">\n",
       "  <thead>\n",
       "    <tr style=\"text-align: right;\">\n",
       "      <th></th>\n",
       "      <th>variables</th>\n",
       "      <th>VIF</th>\n",
       "    </tr>\n",
       "  </thead>\n",
       "  <tbody>\n",
       "    <tr>\n",
       "      <th>16</th>\n",
       "      <td>PAT</td>\n",
       "      <td>24.816792</td>\n",
       "    </tr>\n",
       "    <tr>\n",
       "      <th>13</th>\n",
       "      <td>PBDT</td>\n",
       "      <td>22.552189</td>\n",
       "    </tr>\n",
       "    <tr>\n",
       "      <th>18</th>\n",
       "      <td>CP</td>\n",
       "      <td>19.075154</td>\n",
       "    </tr>\n",
       "    <tr>\n",
       "      <th>15</th>\n",
       "      <td>PBT</td>\n",
       "      <td>15.802774</td>\n",
       "    </tr>\n",
       "    <tr>\n",
       "      <th>8</th>\n",
       "      <td>Total Assets/Liabilities</td>\n",
       "      <td>14.145843</td>\n",
       "    </tr>\n",
       "    <tr>\n",
       "      <th>17</th>\n",
       "      <td>Adjusted PAT</td>\n",
       "      <td>12.100249</td>\n",
       "    </tr>\n",
       "    <tr>\n",
       "      <th>2</th>\n",
       "      <td>Capital Employed</td>\n",
       "      <td>11.821691</td>\n",
       "    </tr>\n",
       "    <tr>\n",
       "      <th>49</th>\n",
       "      <td>PBDTM (%)[Latest]</td>\n",
       "      <td>11.558849</td>\n",
       "    </tr>\n",
       "    <tr>\n",
       "      <th>6</th>\n",
       "      <td>Current Assets</td>\n",
       "      <td>10.837357</td>\n",
       "    </tr>\n",
       "    <tr>\n",
       "      <th>14</th>\n",
       "      <td>PBIT</td>\n",
       "      <td>10.609799</td>\n",
       "    </tr>\n",
       "    <tr>\n",
       "      <th>35</th>\n",
       "      <td>ROG-PBDT (%)</td>\n",
       "      <td>10.304627</td>\n",
       "    </tr>\n",
       "    <tr>\n",
       "      <th>12</th>\n",
       "      <td>PBIDT</td>\n",
       "      <td>9.244755</td>\n",
       "    </tr>\n",
       "    <tr>\n",
       "      <th>50</th>\n",
       "      <td>CPM (%)[Latest]</td>\n",
       "      <td>9.024229</td>\n",
       "    </tr>\n",
       "    <tr>\n",
       "      <th>39</th>\n",
       "      <td>ROG-CP (%)</td>\n",
       "      <td>8.012114</td>\n",
       "    </tr>\n",
       "    <tr>\n",
       "      <th>34</th>\n",
       "      <td>ROG-PBIDT (%)</td>\n",
       "      <td>7.311566</td>\n",
       "    </tr>\n",
       "    <tr>\n",
       "      <th>37</th>\n",
       "      <td>ROG-PBT (%)</td>\n",
       "      <td>6.651379</td>\n",
       "    </tr>\n",
       "    <tr>\n",
       "      <th>36</th>\n",
       "      <td>ROG-PBIT (%)</td>\n",
       "      <td>6.553963</td>\n",
       "    </tr>\n",
       "    <tr>\n",
       "      <th>48</th>\n",
       "      <td>PBITM (%)[Latest]</td>\n",
       "      <td>6.508718</td>\n",
       "    </tr>\n",
       "    <tr>\n",
       "      <th>7</th>\n",
       "      <td>Current Liabilities and Provisions</td>\n",
       "      <td>6.501809</td>\n",
       "    </tr>\n",
       "    <tr>\n",
       "      <th>55</th>\n",
       "      <td>Value of Output/Total Assets</td>\n",
       "      <td>6.017933</td>\n",
       "    </tr>\n",
       "    <tr>\n",
       "      <th>10</th>\n",
       "      <td>Cost of Production</td>\n",
       "      <td>5.934562</td>\n",
       "    </tr>\n",
       "    <tr>\n",
       "      <th>22</th>\n",
       "      <td>Book Value (Unit Curr)</td>\n",
       "      <td>5.728622</td>\n",
       "    </tr>\n",
       "    <tr>\n",
       "      <th>45</th>\n",
       "      <td>Total Asset Turnover Ratio[Latest]</td>\n",
       "      <td>5.627239</td>\n",
       "    </tr>\n",
       "    <tr>\n",
       "      <th>47</th>\n",
       "      <td>PBIDTM (%)[Latest]</td>\n",
       "      <td>5.583853</td>\n",
       "    </tr>\n",
       "    <tr>\n",
       "      <th>38</th>\n",
       "      <td>ROG-PAT (%)</td>\n",
       "      <td>5.571592</td>\n",
       "    </tr>\n",
       "    <tr>\n",
       "      <th>23</th>\n",
       "      <td>Book Value (Adj.) (Unit Curr)</td>\n",
       "      <td>5.371395</td>\n",
       "    </tr>\n",
       "    <tr>\n",
       "      <th>1</th>\n",
       "      <td>Networth</td>\n",
       "      <td>5.345532</td>\n",
       "    </tr>\n",
       "    <tr>\n",
       "      <th>42</th>\n",
       "      <td>Fixed Assets Ratio[Latest]</td>\n",
       "      <td>4.510451</td>\n",
       "    </tr>\n",
       "    <tr>\n",
       "      <th>56</th>\n",
       "      <td>Value of Output/Gross Block</td>\n",
       "      <td>4.476843</td>\n",
       "    </tr>\n",
       "    <tr>\n",
       "      <th>4</th>\n",
       "      <td>Gross Block</td>\n",
       "      <td>4.468671</td>\n",
       "    </tr>\n",
       "    <tr>\n",
       "      <th>51</th>\n",
       "      <td>APATM (%)[Latest]</td>\n",
       "      <td>4.468451</td>\n",
       "    </tr>\n",
       "    <tr>\n",
       "      <th>5</th>\n",
       "      <td>Net Working Capital</td>\n",
       "      <td>3.630879</td>\n",
       "    </tr>\n",
       "    <tr>\n",
       "      <th>25</th>\n",
       "      <td>CEPS (annualised) (Unit Curr)</td>\n",
       "      <td>3.343295</td>\n",
       "    </tr>\n",
       "    <tr>\n",
       "      <th>3</th>\n",
       "      <td>Total Debt</td>\n",
       "      <td>2.618908</td>\n",
       "    </tr>\n",
       "    <tr>\n",
       "      <th>30</th>\n",
       "      <td>ROG-Capital Employed (%)</td>\n",
       "      <td>2.578166</td>\n",
       "    </tr>\n",
       "    <tr>\n",
       "      <th>33</th>\n",
       "      <td>ROG-Total Assets (%)</td>\n",
       "      <td>2.301828</td>\n",
       "    </tr>\n",
       "    <tr>\n",
       "      <th>11</th>\n",
       "      <td>Selling Cost</td>\n",
       "      <td>2.233964</td>\n",
       "    </tr>\n",
       "    <tr>\n",
       "      <th>29</th>\n",
       "      <td>ROG-Net Worth (%)</td>\n",
       "      <td>2.224272</td>\n",
       "    </tr>\n",
       "    <tr>\n",
       "      <th>26</th>\n",
       "      <td>Cash Flow From Operating Activities</td>\n",
       "      <td>2.073335</td>\n",
       "    </tr>\n",
       "    <tr>\n",
       "      <th>9</th>\n",
       "      <td>Other Income</td>\n",
       "      <td>1.985438</td>\n",
       "    </tr>\n",
       "    <tr>\n",
       "      <th>28</th>\n",
       "      <td>Cash Flow From Financing Activities</td>\n",
       "      <td>1.985116</td>\n",
       "    </tr>\n",
       "    <tr>\n",
       "      <th>24</th>\n",
       "      <td>Market Capitalisation</td>\n",
       "      <td>1.909134</td>\n",
       "    </tr>\n",
       "    <tr>\n",
       "      <th>46</th>\n",
       "      <td>Interest Cover Ratio[Latest]</td>\n",
       "      <td>1.840784</td>\n",
       "    </tr>\n",
       "    <tr>\n",
       "      <th>27</th>\n",
       "      <td>Cash Flow From Investing Activities</td>\n",
       "      <td>1.660137</td>\n",
       "    </tr>\n",
       "    <tr>\n",
       "      <th>0</th>\n",
       "      <td>Equity Paid Up</td>\n",
       "      <td>1.624959</td>\n",
       "    </tr>\n",
       "    <tr>\n",
       "      <th>43</th>\n",
       "      <td>Inventory Ratio[Latest]</td>\n",
       "      <td>1.624841</td>\n",
       "    </tr>\n",
       "    <tr>\n",
       "      <th>20</th>\n",
       "      <td>Revenue expenses in forex</td>\n",
       "      <td>1.609259</td>\n",
       "    </tr>\n",
       "    <tr>\n",
       "      <th>44</th>\n",
       "      <td>Debtors Ratio[Latest]</td>\n",
       "      <td>1.592830</td>\n",
       "    </tr>\n",
       "    <tr>\n",
       "      <th>57</th>\n",
       "      <td>default</td>\n",
       "      <td>1.430099</td>\n",
       "    </tr>\n",
       "    <tr>\n",
       "      <th>31</th>\n",
       "      <td>ROG-Gross Block (%)</td>\n",
       "      <td>1.408886</td>\n",
       "    </tr>\n",
       "    <tr>\n",
       "      <th>53</th>\n",
       "      <td>Creditors Velocity (Days)</td>\n",
       "      <td>1.400812</td>\n",
       "    </tr>\n",
       "    <tr>\n",
       "      <th>52</th>\n",
       "      <td>Debtors Velocity (Days)</td>\n",
       "      <td>1.375785</td>\n",
       "    </tr>\n",
       "    <tr>\n",
       "      <th>19</th>\n",
       "      <td>Revenue earnings in forex</td>\n",
       "      <td>1.366783</td>\n",
       "    </tr>\n",
       "    <tr>\n",
       "      <th>41</th>\n",
       "      <td>Current Ratio[Latest]</td>\n",
       "      <td>1.298038</td>\n",
       "    </tr>\n",
       "    <tr>\n",
       "      <th>54</th>\n",
       "      <td>Inventory Velocity (Days)</td>\n",
       "      <td>1.281865</td>\n",
       "    </tr>\n",
       "    <tr>\n",
       "      <th>40</th>\n",
       "      <td>ROG-Market Capitalisation (%)</td>\n",
       "      <td>1.279062</td>\n",
       "    </tr>\n",
       "    <tr>\n",
       "      <th>32</th>\n",
       "      <td>ROG-Cost of Production (%)</td>\n",
       "      <td>1.193257</td>\n",
       "    </tr>\n",
       "    <tr>\n",
       "      <th>21</th>\n",
       "      <td>Capital expenses in forex</td>\n",
       "      <td>NaN</td>\n",
       "    </tr>\n",
       "  </tbody>\n",
       "</table>\n",
       "</div>"
      ],
      "text/plain": [
       "                              variables        VIF\n",
       "16                                  PAT  24.816792\n",
       "13                                 PBDT  22.552189\n",
       "18                                   CP  19.075154\n",
       "15                                  PBT  15.802774\n",
       "8             Total Assets/Liabilities   14.145843\n",
       "17                         Adjusted PAT  12.100249\n",
       "2                      Capital Employed  11.821691\n",
       "49                    PBDTM (%)[Latest]  11.558849\n",
       "6                       Current Assets   10.837357\n",
       "14                                 PBIT  10.609799\n",
       "35                         ROG-PBDT (%)  10.304627\n",
       "12                                PBIDT   9.244755\n",
       "50                      CPM (%)[Latest]   9.024229\n",
       "39                           ROG-CP (%)   8.012114\n",
       "34                        ROG-PBIDT (%)   7.311566\n",
       "37                          ROG-PBT (%)   6.651379\n",
       "36                         ROG-PBIT (%)   6.553963\n",
       "48                    PBITM (%)[Latest]   6.508718\n",
       "7   Current Liabilities and Provisions    6.501809\n",
       "55         Value of Output/Total Assets   6.017933\n",
       "10                   Cost of Production   5.934562\n",
       "22               Book Value (Unit Curr)   5.728622\n",
       "45   Total Asset Turnover Ratio[Latest]   5.627239\n",
       "47                   PBIDTM (%)[Latest]   5.583853\n",
       "38                          ROG-PAT (%)   5.571592\n",
       "23        Book Value (Adj.) (Unit Curr)   5.371395\n",
       "1                              Networth   5.345532\n",
       "42           Fixed Assets Ratio[Latest]   4.510451\n",
       "56          Value of Output/Gross Block   4.476843\n",
       "4                          Gross Block    4.468671\n",
       "51                    APATM (%)[Latest]   4.468451\n",
       "5                  Net Working Capital    3.630879\n",
       "25        CEPS (annualised) (Unit Curr)   3.343295\n",
       "3                            Total Debt   2.618908\n",
       "30             ROG-Capital Employed (%)   2.578166\n",
       "33                 ROG-Total Assets (%)   2.301828\n",
       "11                         Selling Cost   2.233964\n",
       "29                    ROG-Net Worth (%)   2.224272\n",
       "26  Cash Flow From Operating Activities   2.073335\n",
       "9                          Other Income   1.985438\n",
       "28  Cash Flow From Financing Activities   1.985116\n",
       "24                Market Capitalisation   1.909134\n",
       "46         Interest Cover Ratio[Latest]   1.840784\n",
       "27  Cash Flow From Investing Activities   1.660137\n",
       "0                        Equity Paid Up   1.624959\n",
       "43              Inventory Ratio[Latest]   1.624841\n",
       "20            Revenue expenses in forex   1.609259\n",
       "44                Debtors Ratio[Latest]   1.592830\n",
       "57                              default   1.430099\n",
       "31                  ROG-Gross Block (%)   1.408886\n",
       "53            Creditors Velocity (Days)   1.400812\n",
       "52              Debtors Velocity (Days)   1.375785\n",
       "19            Revenue earnings in forex   1.366783\n",
       "41                Current Ratio[Latest]   1.298038\n",
       "54            Inventory Velocity (Days)   1.281865\n",
       "40        ROG-Market Capitalisation (%)   1.279062\n",
       "32           ROG-Cost of Production (%)   1.193257\n",
       "21            Capital expenses in forex        NaN"
      ]
     },
     "execution_count": 453,
     "metadata": {},
     "output_type": "execute_result"
    }
   ],
   "source": [
    "Company_imputed = Company_imputed.drop(['Net Sales', 'Value Of Output', 'Gross Sales', 'ROG-Gross Sales (%)', 'ROG-Net Sales (%)'], axis = 1)\n",
    "calc_vif(Company_imputed).sort_values(by = 'VIF', ascending = False)"
   ]
  },
  {
   "cell_type": "code",
   "execution_count": 454,
   "metadata": {},
   "outputs": [
    {
     "data": {
      "text/html": [
       "<div>\n",
       "<style scoped>\n",
       "    .dataframe tbody tr th:only-of-type {\n",
       "        vertical-align: middle;\n",
       "    }\n",
       "\n",
       "    .dataframe tbody tr th {\n",
       "        vertical-align: top;\n",
       "    }\n",
       "\n",
       "    .dataframe thead th {\n",
       "        text-align: right;\n",
       "    }\n",
       "</style>\n",
       "<table border=\"1\" class=\"dataframe\">\n",
       "  <thead>\n",
       "    <tr style=\"text-align: right;\">\n",
       "      <th></th>\n",
       "      <th>variables</th>\n",
       "      <th>VIF</th>\n",
       "    </tr>\n",
       "  </thead>\n",
       "  <tbody>\n",
       "    <tr>\n",
       "      <th>23</th>\n",
       "      <td>Fixed Assets Ratio[Latest]</td>\n",
       "      <td>4.231355</td>\n",
       "    </tr>\n",
       "    <tr>\n",
       "      <th>32</th>\n",
       "      <td>Value of Output/Gross Block</td>\n",
       "      <td>4.109315</td>\n",
       "    </tr>\n",
       "    <tr>\n",
       "      <th>7</th>\n",
       "      <td>Adjusted PAT</td>\n",
       "      <td>3.279727</td>\n",
       "    </tr>\n",
       "    <tr>\n",
       "      <th>1</th>\n",
       "      <td>Networth</td>\n",
       "      <td>3.179097</td>\n",
       "    </tr>\n",
       "    <tr>\n",
       "      <th>4</th>\n",
       "      <td>Current Liabilities and Provisions</td>\n",
       "      <td>3.111603</td>\n",
       "    </tr>\n",
       "    <tr>\n",
       "      <th>28</th>\n",
       "      <td>APATM (%)[Latest]</td>\n",
       "      <td>3.100422</td>\n",
       "    </tr>\n",
       "    <tr>\n",
       "      <th>27</th>\n",
       "      <td>PBITM (%)[Latest]</td>\n",
       "      <td>2.785571</td>\n",
       "    </tr>\n",
       "    <tr>\n",
       "      <th>17</th>\n",
       "      <td>ROG-Capital Employed (%)</td>\n",
       "      <td>2.555279</td>\n",
       "    </tr>\n",
       "    <tr>\n",
       "      <th>12</th>\n",
       "      <td>CEPS (annualised) (Unit Curr)</td>\n",
       "      <td>2.416245</td>\n",
       "    </tr>\n",
       "    <tr>\n",
       "      <th>20</th>\n",
       "      <td>ROG-Total Assets (%)</td>\n",
       "      <td>2.262664</td>\n",
       "    </tr>\n",
       "    <tr>\n",
       "      <th>3</th>\n",
       "      <td>Net Working Capital</td>\n",
       "      <td>2.228670</td>\n",
       "    </tr>\n",
       "    <tr>\n",
       "      <th>2</th>\n",
       "      <td>Total Debt</td>\n",
       "      <td>2.151982</td>\n",
       "    </tr>\n",
       "    <tr>\n",
       "      <th>6</th>\n",
       "      <td>Selling Cost</td>\n",
       "      <td>2.117347</td>\n",
       "    </tr>\n",
       "    <tr>\n",
       "      <th>16</th>\n",
       "      <td>ROG-Net Worth (%)</td>\n",
       "      <td>2.078263</td>\n",
       "    </tr>\n",
       "    <tr>\n",
       "      <th>13</th>\n",
       "      <td>Cash Flow From Operating Activities</td>\n",
       "      <td>2.034772</td>\n",
       "    </tr>\n",
       "    <tr>\n",
       "      <th>15</th>\n",
       "      <td>Cash Flow From Financing Activities</td>\n",
       "      <td>1.933708</td>\n",
       "    </tr>\n",
       "    <tr>\n",
       "      <th>5</th>\n",
       "      <td>Other Income</td>\n",
       "      <td>1.900614</td>\n",
       "    </tr>\n",
       "    <tr>\n",
       "      <th>11</th>\n",
       "      <td>Market Capitalisation</td>\n",
       "      <td>1.862434</td>\n",
       "    </tr>\n",
       "    <tr>\n",
       "      <th>26</th>\n",
       "      <td>Interest Cover Ratio[Latest]</td>\n",
       "      <td>1.742191</td>\n",
       "    </tr>\n",
       "    <tr>\n",
       "      <th>14</th>\n",
       "      <td>Cash Flow From Investing Activities</td>\n",
       "      <td>1.574832</td>\n",
       "    </tr>\n",
       "    <tr>\n",
       "      <th>9</th>\n",
       "      <td>Revenue expenses in forex</td>\n",
       "      <td>1.572592</td>\n",
       "    </tr>\n",
       "    <tr>\n",
       "      <th>0</th>\n",
       "      <td>Equity Paid Up</td>\n",
       "      <td>1.500378</td>\n",
       "    </tr>\n",
       "    <tr>\n",
       "      <th>24</th>\n",
       "      <td>Inventory Ratio[Latest]</td>\n",
       "      <td>1.448032</td>\n",
       "    </tr>\n",
       "    <tr>\n",
       "      <th>25</th>\n",
       "      <td>Debtors Ratio[Latest]</td>\n",
       "      <td>1.419449</td>\n",
       "    </tr>\n",
       "    <tr>\n",
       "      <th>18</th>\n",
       "      <td>ROG-Gross Block (%)</td>\n",
       "      <td>1.373183</td>\n",
       "    </tr>\n",
       "    <tr>\n",
       "      <th>29</th>\n",
       "      <td>Debtors Velocity (Days)</td>\n",
       "      <td>1.359441</td>\n",
       "    </tr>\n",
       "    <tr>\n",
       "      <th>30</th>\n",
       "      <td>Creditors Velocity (Days)</td>\n",
       "      <td>1.348357</td>\n",
       "    </tr>\n",
       "    <tr>\n",
       "      <th>8</th>\n",
       "      <td>Revenue earnings in forex</td>\n",
       "      <td>1.342415</td>\n",
       "    </tr>\n",
       "    <tr>\n",
       "      <th>33</th>\n",
       "      <td>default</td>\n",
       "      <td>1.310854</td>\n",
       "    </tr>\n",
       "    <tr>\n",
       "      <th>22</th>\n",
       "      <td>Current Ratio[Latest]</td>\n",
       "      <td>1.279393</td>\n",
       "    </tr>\n",
       "    <tr>\n",
       "      <th>31</th>\n",
       "      <td>Inventory Velocity (Days)</td>\n",
       "      <td>1.258980</td>\n",
       "    </tr>\n",
       "    <tr>\n",
       "      <th>21</th>\n",
       "      <td>ROG-Market Capitalisation (%)</td>\n",
       "      <td>1.254001</td>\n",
       "    </tr>\n",
       "    <tr>\n",
       "      <th>19</th>\n",
       "      <td>ROG-Cost of Production (%)</td>\n",
       "      <td>1.154165</td>\n",
       "    </tr>\n",
       "    <tr>\n",
       "      <th>10</th>\n",
       "      <td>Capital expenses in forex</td>\n",
       "      <td>NaN</td>\n",
       "    </tr>\n",
       "  </tbody>\n",
       "</table>\n",
       "</div>"
      ],
      "text/plain": [
       "                              variables       VIF\n",
       "23           Fixed Assets Ratio[Latest]  4.231355\n",
       "32          Value of Output/Gross Block  4.109315\n",
       "7                          Adjusted PAT  3.279727\n",
       "1                              Networth  3.179097\n",
       "4   Current Liabilities and Provisions   3.111603\n",
       "28                    APATM (%)[Latest]  3.100422\n",
       "27                    PBITM (%)[Latest]  2.785571\n",
       "17             ROG-Capital Employed (%)  2.555279\n",
       "12        CEPS (annualised) (Unit Curr)  2.416245\n",
       "20                 ROG-Total Assets (%)  2.262664\n",
       "3                  Net Working Capital   2.228670\n",
       "2                            Total Debt  2.151982\n",
       "6                          Selling Cost  2.117347\n",
       "16                    ROG-Net Worth (%)  2.078263\n",
       "13  Cash Flow From Operating Activities  2.034772\n",
       "15  Cash Flow From Financing Activities  1.933708\n",
       "5                          Other Income  1.900614\n",
       "11                Market Capitalisation  1.862434\n",
       "26         Interest Cover Ratio[Latest]  1.742191\n",
       "14  Cash Flow From Investing Activities  1.574832\n",
       "9             Revenue expenses in forex  1.572592\n",
       "0                        Equity Paid Up  1.500378\n",
       "24              Inventory Ratio[Latest]  1.448032\n",
       "25                Debtors Ratio[Latest]  1.419449\n",
       "18                  ROG-Gross Block (%)  1.373183\n",
       "29              Debtors Velocity (Days)  1.359441\n",
       "30            Creditors Velocity (Days)  1.348357\n",
       "8             Revenue earnings in forex  1.342415\n",
       "33                              default  1.310854\n",
       "22                Current Ratio[Latest]  1.279393\n",
       "31            Inventory Velocity (Days)  1.258980\n",
       "21        ROG-Market Capitalisation (%)  1.254001\n",
       "19           ROG-Cost of Production (%)  1.154165\n",
       "10            Capital expenses in forex       NaN"
      ]
     },
     "execution_count": 454,
     "metadata": {},
     "output_type": "execute_result"
    }
   ],
   "source": [
    "Company_imputed = Company_imputed.drop(['PBDT', 'Total Assets/Liabilities ', 'CP', 'PAT', 'PBT', 'Capital Employed', 'Current Assets ', 'CPM (%)[Latest]', 'PBIDTM (%)[Latest]', 'PBIDT', 'PBIT', 'ROG-PBDT (%)', 'ROG-PBT (%)', 'ROG-CP (%)', 'Book Value (Unit Curr)', 'ROG-PBIDT (%)', 'Book Value (Adj.) (Unit Curr)', 'ROG-PAT (%)', 'Value of Output/Total Assets', 'ROG-PBIT (%)', 'Cost of Production', 'Total Asset Turnover Ratio[Latest]', 'Gross Block ', 'PBDTM (%)[Latest]', ], axis = 1)\n",
    "calc_vif(Company_imputed).sort_values(by = 'VIF', ascending = False)"
   ]
  },
  {
   "cell_type": "markdown",
   "metadata": {},
   "source": [
    "#### Inspect possible correlations between independent variables "
   ]
  },
  {
   "cell_type": "code",
   "execution_count": 455,
   "metadata": {
    "scrolled": false
   },
   "outputs": [
    {
     "data": {
      "text/plain": [
       "<matplotlib.axes._subplots.AxesSubplot at 0x1a80794eb50>"
      ]
     },
     "execution_count": 455,
     "metadata": {},
     "output_type": "execute_result"
    },
    {
     "data": {
      "image/png": "[encoded data removed]",
      "text/plain": [
       "<Figure size 864x576 with 2 Axes>"
      ]
     },
     "metadata": {
      "needs_background": "light"
     },
     "output_type": "display_data"
    }
   ],
   "source": [
    "plt.figure(figsize = (12,8))\n",
    "cor_matrix = Company_imputed.drop('default', axis = 1).corr()\n",
    "sns.heatmap(cor_matrix, cmap = 'plasma', vmin = -1, vmax= 1)"
   ]
  },
  {
   "cell_type": "code",
   "execution_count": 456,
   "metadata": {},
   "outputs": [],
   "source": [
    "predictors_1 = Company_imputed.drop('default', axis = 1)\n",
    "response_1 = Company_imputed['default']"
   ]
  },
  {
   "cell_type": "code",
   "execution_count": 457,
   "metadata": {},
   "outputs": [],
   "source": [
    "from sklearn.model_selection import train_test_split\n",
    "from sklearn.feature_selection import RFE\n",
    "from sklearn.linear_model import LogisticRegression"
   ]
  },
  {
   "cell_type": "markdown",
   "metadata": {},
   "source": [
    "#### Splitting the data into train and test sets"
   ]
  },
  {
   "cell_type": "code",
   "execution_count": 458,
   "metadata": {},
   "outputs": [],
   "source": [
    "X_train, X_test, y_train, y_test = train_test_split(predictors_1, response_1, \n",
    "                                                    test_size = 0.33, random_state = 42)"
   ]
  },
  {
   "cell_type": "code",
   "execution_count": 459,
   "metadata": {},
   "outputs": [
    {
     "name": "stdout",
     "output_type": "stream",
     "text": [
      "X_train:  (2402, 33)\n",
      "X_test:  (1184, 33)\n",
      "train_labels:  (2402,)\n",
      "test_labels:  (1184,)\n"
     ]
    }
   ],
   "source": [
    "# Checking dimensions on the train and test data\n",
    "print('X_train: ',X_train.shape)\n",
    "print('X_test: ',X_test.shape)\n",
    "print('train_labels: ',y_train.shape)\n",
    "print('test_labels: ',y_test.shape)"
   ]
  },
  {
   "cell_type": "markdown",
   "metadata": {},
   "source": [
    "#### For modeling we will use Logistic Regression with recursive feature elimination"
   ]
  },
  {
   "cell_type": "code",
   "execution_count": 460,
   "metadata": {},
   "outputs": [],
   "source": [
    "LogR = LogisticRegression()"
   ]
  },
  {
   "cell_type": "code",
   "execution_count": 461,
   "metadata": {},
   "outputs": [],
   "source": [
    "selector = RFE(estimator = LogR, n_features_to_select=12, step=1)"
   ]
  },
  {
   "cell_type": "code",
   "execution_count": 462,
   "metadata": {},
   "outputs": [],
   "source": [
    "selector = selector.fit(X_train, y_train)"
   ]
  },
  {
   "cell_type": "code",
   "execution_count": 463,
   "metadata": {},
   "outputs": [
    {
     "data": {
      "text/plain": [
       "12"
      ]
     },
     "execution_count": 463,
     "metadata": {},
     "output_type": "execute_result"
    }
   ],
   "source": [
    "selector.n_features_"
   ]
  },
  {
   "cell_type": "code",
   "execution_count": 464,
   "metadata": {},
   "outputs": [
    {
     "data": {
      "text/plain": [
       "array([ 1,  1,  4, 11,  1,  1, 18,  5, 14, 12, 22, 20,  1,  9, 13, 15,  1,\n",
       "        2, 16,  1,  3, 17,  1,  8, 21, 19,  1,  1,  1,  7, 10,  6,  1])"
      ]
     },
     "execution_count": 464,
     "metadata": {},
     "output_type": "execute_result"
    }
   ],
   "source": [
    "selector.ranking_"
   ]
  },
  {
   "cell_type": "code",
   "execution_count": 465,
   "metadata": {},
   "outputs": [
    {
     "data": {
      "text/html": [
       "<div>\n",
       "<style scoped>\n",
       "    .dataframe tbody tr th:only-of-type {\n",
       "        vertical-align: middle;\n",
       "    }\n",
       "\n",
       "    .dataframe tbody tr th {\n",
       "        vertical-align: top;\n",
       "    }\n",
       "\n",
       "    .dataframe thead th {\n",
       "        text-align: right;\n",
       "    }\n",
       "</style>\n",
       "<table border=\"1\" class=\"dataframe\">\n",
       "  <thead>\n",
       "    <tr style=\"text-align: right;\">\n",
       "      <th></th>\n",
       "      <th>Feature</th>\n",
       "      <th>Rank</th>\n",
       "    </tr>\n",
       "  </thead>\n",
       "  <tbody>\n",
       "    <tr>\n",
       "      <th>0</th>\n",
       "      <td>Equity Paid Up</td>\n",
       "      <td>1</td>\n",
       "    </tr>\n",
       "    <tr>\n",
       "      <th>1</th>\n",
       "      <td>Networth</td>\n",
       "      <td>1</td>\n",
       "    </tr>\n",
       "    <tr>\n",
       "      <th>4</th>\n",
       "      <td>Current Liabilities and Provisions</td>\n",
       "      <td>1</td>\n",
       "    </tr>\n",
       "    <tr>\n",
       "      <th>5</th>\n",
       "      <td>Other Income</td>\n",
       "      <td>1</td>\n",
       "    </tr>\n",
       "    <tr>\n",
       "      <th>12</th>\n",
       "      <td>CEPS (annualised) (Unit Curr)</td>\n",
       "      <td>1</td>\n",
       "    </tr>\n",
       "    <tr>\n",
       "      <th>16</th>\n",
       "      <td>ROG-Net Worth (%)</td>\n",
       "      <td>1</td>\n",
       "    </tr>\n",
       "    <tr>\n",
       "      <th>19</th>\n",
       "      <td>ROG-Cost of Production (%)</td>\n",
       "      <td>1</td>\n",
       "    </tr>\n",
       "    <tr>\n",
       "      <th>22</th>\n",
       "      <td>Current Ratio[Latest]</td>\n",
       "      <td>1</td>\n",
       "    </tr>\n",
       "    <tr>\n",
       "      <th>26</th>\n",
       "      <td>Interest Cover Ratio[Latest]</td>\n",
       "      <td>1</td>\n",
       "    </tr>\n",
       "    <tr>\n",
       "      <th>27</th>\n",
       "      <td>PBITM (%)[Latest]</td>\n",
       "      <td>1</td>\n",
       "    </tr>\n",
       "    <tr>\n",
       "      <th>28</th>\n",
       "      <td>APATM (%)[Latest]</td>\n",
       "      <td>1</td>\n",
       "    </tr>\n",
       "    <tr>\n",
       "      <th>32</th>\n",
       "      <td>Value of Output/Gross Block</td>\n",
       "      <td>1</td>\n",
       "    </tr>\n",
       "  </tbody>\n",
       "</table>\n",
       "</div>"
      ],
      "text/plain": [
       "                                Feature  Rank\n",
       "0                        Equity Paid Up     1\n",
       "1                              Networth     1\n",
       "4   Current Liabilities and Provisions      1\n",
       "5                          Other Income     1\n",
       "12        CEPS (annualised) (Unit Curr)     1\n",
       "16                    ROG-Net Worth (%)     1\n",
       "19           ROG-Cost of Production (%)     1\n",
       "22                Current Ratio[Latest]     1\n",
       "26         Interest Cover Ratio[Latest]     1\n",
       "27                    PBITM (%)[Latest]     1\n",
       "28                    APATM (%)[Latest]     1\n",
       "32          Value of Output/Gross Block     1"
      ]
     },
     "execution_count": 465,
     "metadata": {},
     "output_type": "execute_result"
    }
   ],
   "source": [
    "df = pd.DataFrame({'Feature': predictors_1.columns, 'Rank': selector.ranking_})\n",
    "df[df['Rank'] == 1]"
   ]
  },
  {
   "cell_type": "markdown",
   "metadata": {},
   "source": [
    "#### Univariate Analysis on Top 12 important features"
   ]
  },
  {
   "cell_type": "code",
   "execution_count": 466,
   "metadata": {},
   "outputs": [
    {
     "data": {
      "image/png": "[encoded data removed]",
      "text/plain": [
       "<Figure size 1080x864 with 12 Axes>"
      ]
     },
     "metadata": {
      "needs_background": "light"
     },
     "output_type": "display_data"
    }
   ],
   "source": [
    "# Ploting the boxplots after capping the outliers\n",
    "plt.figure(figsize=(15,12))\n",
    "var=['Equity Paid Up','Networth', 'Current Liabilities and Provisions ', 'Other Income', 'CEPS (annualised) (Unit Curr)', 'ROG-Net Worth (%)', 'ROG-Capital Employed (%)', 'ROG-Total Assets (%)', 'Current Ratio[Latest]', 'Fixed Assets Ratio[Latest]', 'Interest Cover Ratio[Latest]', 'Value of Output/Gross Block']\n",
    "for i in range(len(var)):\n",
    "    plt.subplot(3,4,i+1)\n",
    "    sns.boxplot(y=Company_imputed[var[i]], data = Company_imputed)\n",
    "    plt.title('Boxplot for {}'.format(var[i]))\n",
    "    plt.tight_layout(pad=3)\n"
   ]
  },
  {
   "cell_type": "code",
   "execution_count": 467,
   "metadata": {
    "scrolled": true
   },
   "outputs": [
    {
     "data": {
      "image/png": "[encoded data removed]",
      "text/plain": [
       "<Figure size 1080x864 with 12 Axes>"
      ]
     },
     "metadata": {
      "needs_background": "light"
     },
     "output_type": "display_data"
    }
   ],
   "source": [
    "# Ploting the boxplots after capping the outliers\n",
    "plt.figure(figsize=(15,12))\n",
    "var=['Equity Paid Up','Networth', 'Current Liabilities and Provisions ', 'Other Income', 'CEPS (annualised) (Unit Curr)', 'ROG-Net Worth (%)', 'ROG-Capital Employed (%)', 'ROG-Total Assets (%)', 'Current Ratio[Latest]', 'Fixed Assets Ratio[Latest]', 'Interest Cover Ratio[Latest]', 'Value of Output/Gross Block']\n",
    "for i in range(len(var)):\n",
    "    plt.subplot(3,4,i+1)\n",
    "    plt.hist(bins =10, x = Company_imputed[var[i]])\n",
    "    plt.title('Histplot for {}'.format(var[i]))\n",
    "    plt.tight_layout(pad=3)\n"
   ]
  },
  {
   "cell_type": "markdown",
   "metadata": {},
   "source": [
    "#### Bivariate Analysis on Top 12 important features"
   ]
  },
  {
   "cell_type": "code",
   "execution_count": 468,
   "metadata": {},
   "outputs": [
    {
     "data": {
      "text/plain": [
       "<matplotlib.axes._subplots.AxesSubplot at 0x1a8095e6b80>"
      ]
     },
     "execution_count": 468,
     "metadata": {},
     "output_type": "execute_result"
    },
    {
     "data": {
      "image/png": "[encoded data removed]",
      "text/plain": [
       "<Figure size 432x288 with 1 Axes>"
      ]
     },
     "metadata": {
      "needs_background": "light"
     },
     "output_type": "display_data"
    }
   ],
   "source": [
    "sns.countplot(x=Company_imputed['default'])"
   ]
  },
  {
   "cell_type": "code",
   "execution_count": 469,
   "metadata": {},
   "outputs": [
    {
     "data": {
      "image/png": "[encoded data removed]",
      "text/plain": [
       "<Figure size 1440x720 with 12 Axes>"
      ]
     },
     "metadata": {
      "needs_background": "light"
     },
     "output_type": "display_data"
    }
   ],
   "source": [
    "plt.figure(figsize=(20,10))\n",
    "\n",
    "plt.subplot(3,4,1)\n",
    "plt.title('default VS Equity Paid Up')\n",
    "sns.barplot(x=Company_imputed['default'], y=Company_imputed['Equity Paid Up'], estimator=np.mean)\n",
    "\n",
    "plt.subplot(3,4,2)\n",
    "plt.title('default VS Networth')\n",
    "sns.barplot(x=Company_imputed['default'], y=Company_imputed['Networth'], estimator=np.mean)\n",
    "\n",
    "plt.subplot(3,4,3)\n",
    "plt.title('default VS Current Liabilities and Provisions')\n",
    "sns.barplot(x=Company_imputed['default'], y=Company_imputed['Current Liabilities and Provisions '], estimator=np.mean)\n",
    "\n",
    "plt.subplot(3,4,4)\n",
    "plt.title('default VS Other Income')\n",
    "sns.barplot(x=Company_imputed['default'], y=Company_imputed['Other Income'], estimator=np.mean)\n",
    "\n",
    "plt.subplot(3,4,5)\n",
    "plt.title('default VS CEPS (annualised) (Unit Curr)')\n",
    "sns.barplot(x=Company_imputed['default'], y=Company_imputed['CEPS (annualised) (Unit Curr)'], estimator=np.mean)\n",
    "\n",
    "plt.subplot(3,4,6)\n",
    "plt.title('default VS ROG-Net Worth (%)')\n",
    "sns.barplot(x=Company_imputed['default'], y=Company_imputed['ROG-Net Worth (%)'], estimator=np.mean)\n",
    "\n",
    "plt.subplot(3,4,7)\n",
    "plt.title('default VS ROG-Capital Employed (%)')\n",
    "sns.barplot(x=Company_imputed['default'], y=Company_imputed['ROG-Capital Employed (%)'], estimator=np.mean)\n",
    "\n",
    "plt.subplot(3,4,8)\n",
    "plt.title('default VS ROG-Total Assets (%)')\n",
    "sns.barplot(x=Company_imputed['default'], y=Company_imputed['ROG-Total Assets (%)'], estimator=np.mean)\n",
    "\n",
    "plt.subplot(3,4,9)\n",
    "plt.title('default VS Current Ratio')\n",
    "sns.barplot(x=Company_imputed['default'], y=Company_imputed['Current Ratio[Latest]'], estimator=np.mean)\n",
    "\n",
    "plt.subplot(3,4,10)\n",
    "plt.title('default VS Fixed Assets Ratio')\n",
    "sns.barplot(x=Company_imputed['default'], y=Company_imputed['Fixed Assets Ratio[Latest]'], estimator=np.mean)\n",
    "\n",
    "plt.subplot(3,4,11)\n",
    "plt.title('default VS Interest Cover Ratio')\n",
    "sns.barplot(x=Company_imputed['default'], y=Company_imputed['Interest Cover Ratio[Latest]'], estimator=np.mean)\n",
    "\n",
    "plt.subplot(3,4,12)\n",
    "plt.title('default VS Value of Output/Gross Block')\n",
    "sns.barplot(x=Company_imputed['default'], y=Company_imputed['Value of Output/Gross Block'], estimator=np.mean)\n",
    "\n",
    "plt.tight_layout(pad=3)"
   ]
  },
  {
   "cell_type": "code",
   "execution_count": 470,
   "metadata": {
    "scrolled": true
   },
   "outputs": [
    {
     "data": {
      "text/plain": [
       "<matplotlib.axes._subplots.AxesSubplot at 0x1a807e11760>"
      ]
     },
     "execution_count": 470,
     "metadata": {},
     "output_type": "execute_result"
    },
    {
     "data": {
      "image/png": "[encoded data removed]",
      "text/plain": [
       "<Figure size 864x576 with 2 Axes>"
      ]
     },
     "metadata": {
      "needs_background": "light"
     },
     "output_type": "display_data"
    }
   ],
   "source": [
    "plt.figure(figsize = (12,8))\n",
    "cor_matrix = Company_imputed[var].corr()\n",
    "sns.heatmap(cor_matrix, cmap = 'plasma', vmin = -1, vmax= 1)"
   ]
  },
  {
   "cell_type": "markdown",
   "metadata": {},
   "source": [
    "#### Multivariate Analysis on Top 12 important features"
   ]
  },
  {
   "cell_type": "code",
   "execution_count": 471,
   "metadata": {},
   "outputs": [],
   "source": [
    "#sns.pairplot(Company_imputed[var])"
   ]
  },
  {
   "cell_type": "markdown",
   "metadata": {},
   "source": [
    "#### Validating the model on train and test set "
   ]
  },
  {
   "cell_type": "code",
   "execution_count": 472,
   "metadata": {},
   "outputs": [],
   "source": [
    "from sklearn.metrics import confusion_matrix, classification_report"
   ]
  },
  {
   "cell_type": "code",
   "execution_count": 473,
   "metadata": {},
   "outputs": [],
   "source": [
    "pred_train = selector.predict(X_train)\n",
    "pred_test = selector.predict(X_test)"
   ]
  },
  {
   "cell_type": "code",
   "execution_count": 474,
   "metadata": {},
   "outputs": [
    {
     "name": "stdout",
     "output_type": "stream",
     "text": [
      "[[2134   23]\n",
      " [ 124  121]]\n"
     ]
    }
   ],
   "source": [
    "print(confusion_matrix(y_train, pred_train))"
   ]
  },
  {
   "cell_type": "code",
   "execution_count": 475,
   "metadata": {},
   "outputs": [
    {
     "name": "stdout",
     "output_type": "stream",
     "text": [
      "              precision    recall  f1-score   support\n",
      "\n",
      "         0.0       0.95      0.99      0.97      2157\n",
      "         1.0       0.84      0.49      0.62       245\n",
      "\n",
      "    accuracy                           0.94      2402\n",
      "   macro avg       0.89      0.74      0.79      2402\n",
      "weighted avg       0.93      0.94      0.93      2402\n",
      "\n"
     ]
    }
   ],
   "source": [
    "print(classification_report(y_train, pred_train))"
   ]
  },
  {
   "cell_type": "code",
   "execution_count": 476,
   "metadata": {},
   "outputs": [
    {
     "name": "stdout",
     "output_type": "stream",
     "text": [
      "[[1025   16]\n",
      " [  70   73]]\n"
     ]
    }
   ],
   "source": [
    "print(confusion_matrix(y_test, pred_test))"
   ]
  },
  {
   "cell_type": "code",
   "execution_count": 477,
   "metadata": {},
   "outputs": [
    {
     "name": "stdout",
     "output_type": "stream",
     "text": [
      "              precision    recall  f1-score   support\n",
      "\n",
      "         0.0       0.94      0.98      0.96      1041\n",
      "         1.0       0.82      0.51      0.63       143\n",
      "\n",
      "    accuracy                           0.93      1184\n",
      "   macro avg       0.88      0.75      0.79      1184\n",
      "weighted avg       0.92      0.93      0.92      1184\n",
      "\n"
     ]
    }
   ],
   "source": [
    "print(classification_report(y_test, pred_test))"
   ]
  },
  {
   "cell_type": "markdown",
   "metadata": {},
   "source": [
    "We see poor recall score for both train and test"
   ]
  },
  {
   "cell_type": "markdown",
   "metadata": {},
   "source": [
    "Since only 7% of the total data had defaults, we will now try to balance the data before fiting the model. "
   ]
  },
  {
   "cell_type": "code",
   "execution_count": 478,
   "metadata": {},
   "outputs": [],
   "source": [
    "from imblearn.over_sampling import SMOTE \n",
    "sm = SMOTE(random_state=42)\n",
    "X_res, y_res = sm.fit_resample(X_train, y_train)"
   ]
  },
  {
   "cell_type": "code",
   "execution_count": 479,
   "metadata": {},
   "outputs": [],
   "source": [
    "selector_smote = selector.fit(X_res, y_res)"
   ]
  },
  {
   "cell_type": "code",
   "execution_count": 480,
   "metadata": {},
   "outputs": [
    {
     "data": {
      "text/plain": [
       "12"
      ]
     },
     "execution_count": 480,
     "metadata": {},
     "output_type": "execute_result"
    }
   ],
   "source": [
    "selector_smote.n_features_"
   ]
  },
  {
   "cell_type": "code",
   "execution_count": 481,
   "metadata": {},
   "outputs": [],
   "source": [
    "pred_train_smote = selector_smote.predict(X_res)\n",
    "pred_test_smote = selector_smote.predict(X_test)"
   ]
  },
  {
   "cell_type": "code",
   "execution_count": 482,
   "metadata": {},
   "outputs": [
    {
     "name": "stdout",
     "output_type": "stream",
     "text": [
      "              precision    recall  f1-score   support\n",
      "\n",
      "         0.0       0.88      0.85      0.87      2157\n",
      "         1.0       0.86      0.89      0.87      2157\n",
      "\n",
      "    accuracy                           0.87      4314\n",
      "   macro avg       0.87      0.87      0.87      4314\n",
      "weighted avg       0.87      0.87      0.87      4314\n",
      "\n"
     ]
    }
   ],
   "source": [
    "print(classification_report(y_res, pred_train_smote))"
   ]
  },
  {
   "cell_type": "code",
   "execution_count": 487,
   "metadata": {},
   "outputs": [
    {
     "name": "stdout",
     "output_type": "stream",
     "text": [
      "[[855 186]\n",
      " [ 16 127]]\n"
     ]
    }
   ],
   "source": [
    "print(confusion_matrix(y_test, pred_test_smote))"
   ]
  },
  {
   "cell_type": "code",
   "execution_count": 483,
   "metadata": {
    "scrolled": true
   },
   "outputs": [
    {
     "name": "stdout",
     "output_type": "stream",
     "text": [
      "              precision    recall  f1-score   support\n",
      "\n",
      "         0.0       0.98      0.82      0.89      1041\n",
      "         1.0       0.41      0.89      0.56       143\n",
      "\n",
      "    accuracy                           0.83      1184\n",
      "   macro avg       0.69      0.85      0.73      1184\n",
      "weighted avg       0.91      0.83      0.85      1184\n",
      "\n"
     ]
    }
   ],
   "source": [
    "print(classification_report(y_test, pred_test_smote))"
   ]
  },
  {
   "cell_type": "markdown",
   "metadata": {},
   "source": [
    "Finally, we are able to achieve a descent recall value without overfitting. Considering the opportunities such as outliers, missing values and correlated features this is a fairly good model. It can be improved if we get better quality data where the features explaining the default are not missing to this extent. Of course we can try other techniques which are not sensitive towards missing values and outliers."
   ]
  },
  {
   "cell_type": "markdown",
   "metadata": {},
   "source": [
    "## END"
   ]
  }
 ],
 "metadata": {
  "kernelspec": {
   "display_name": "Python 3",
   "language": "python",
   "name": "python3"
  },
  "language_info": {
   "codemirror_mode": {
    "name": "ipython",
    "version": 3
   },
   "file_extension": ".py",
   "mimetype": "text/x-python",
   "name": "python",
   "nbconvert_exporter": "python",
   "pygments_lexer": "ipython3",
   "version": "3.8.8"
  }
 },
 "nbformat": 4,
 "nbformat_minor": 2
}
